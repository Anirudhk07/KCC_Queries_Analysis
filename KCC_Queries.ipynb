{
  "nbformat": 4,
  "nbformat_minor": 0,
  "metadata": {
    "colab": {
      "name": "KCC_Queries.ipynb",
      "provenance": [],
      "authorship_tag": "ABX9TyPXIi2jCSCS5I7o/ty+n8Gv",
      "include_colab_link": true
    },
    "kernelspec": {
      "name": "python3",
      "display_name": "Python 3"
    },
    "accelerator": "GPU"
  },
  "cells": [
    {
      "cell_type": "markdown",
      "metadata": {
        "id": "view-in-github",
        "colab_type": "text"
      },
      "source": [
        "<a href=\"https://colab.research.google.com/github/Anirudhk07/KCC_Queries_Analysis/blob/master/KCC_Queries.ipynb\" target=\"_parent\"><img src=\"https://colab.research.google.com/assets/colab-badge.svg\" alt=\"Open In Colab\"/></a>"
      ]
    },
    {
      "cell_type": "code",
      "metadata": {
        "id": "ZrootGVcOkBX",
        "colab_type": "code",
        "outputId": "961cd9c7-062e-4ac9-d896-e7004bf50798",
        "colab": {
          "base_uri": "https://localhost:8080/",
          "height": 34
        }
      },
      "source": [
        "import csv\n",
        "import tensorflow as tf\n",
        "import numpy as np\n",
        "from tensorflow.keras.preprocessing.text import Tokenizer\n",
        "from tensorflow.keras.preprocessing.sequence import pad_sequences\n",
        "print(tf.__version__)"
      ],
      "execution_count": 1,
      "outputs": [
        {
          "output_type": "stream",
          "text": [
            "2.2.0\n"
          ],
          "name": "stdout"
        }
      ]
    },
    {
      "cell_type": "code",
      "metadata": {
        "id": "5EFBCA4lOrkG",
        "colab_type": "code",
        "colab": {}
      },
      "source": [
        "vocab_size = 1000\n",
        "embedding_dim = 16\n",
        "max_length = 120\n",
        "trunc_type='post'\n",
        "padding_type='post'\n",
        "oov_tok = \"<OOV>\"\n",
        "training_portion = .8"
      ],
      "execution_count": 0,
      "outputs": []
    },
    {
      "cell_type": "code",
      "metadata": {
        "id": "LwdaGl3sOxHG",
        "colab_type": "code",
        "outputId": "65de8b29-930e-4974-e096-cd5f0490436c",
        "colab": {
          "base_uri": "https://localhost:8080/",
          "height": 34
        }
      },
      "source": [
        "\n",
        "\n",
        "stopwords = [ \"a\", \"about\", \"above\", \"after\", \"again\", \"against\", \"all\", \"am\", \"an\", \"and\", \"any\", \"are\", \"as\", \"at\", \"be\", \"because\", \"been\", \"before\", \"being\", \"below\", \"between\", \"both\", \"but\", \"by\", \"could\", \"did\", \"do\", \"does\", \"doing\", \"down\", \"during\", \"each\", \"few\", \"for\", \"from\", \"further\", \"had\", \"has\", \"have\", \"having\", \"he\", \"he'd\", \"he'll\", \"he's\", \"her\", \"here\", \"here's\", \"hers\", \"herself\", \"him\", \"himself\", \"his\", \"how\", \"how's\", \"i\", \"i'd\", \"i'll\", \"i'm\", \"i've\", \"if\", \"in\", \"into\", \"is\", \"it\", \"it's\", \"its\", \"itself\", \"let's\", \"me\", \"more\", \"most\", \"my\", \"myself\", \"nor\", \"of\", \"on\", \"once\", \"only\", \"or\", \"other\", \"ought\", \"our\", \"ours\", \"ourselves\", \"out\", \"over\", \"own\", \"same\", \"she\", \"she'd\", \"she'll\", \"she's\", \"should\", \"so\", \"some\", \"such\", \"than\", \"that\", \"that's\", \"the\", \"their\", \"theirs\", \"them\", \"themselves\", \"then\", \"there\", \"there's\", \"these\", \"they\", \"they'd\", \"they'll\", \"they're\", \"they've\", \"this\", \"those\", \"through\", \"to\", \"too\", \"under\", \"until\", \"up\", \"very\", \"was\", \"we\", \"we'd\", \"we'll\", \"we're\", \"we've\", \"were\", \"what\", \"what's\", \"when\", \"when's\", \"where\", \"where's\", \"which\", \"while\", \"who\", \"who's\", \"whom\", \"why\", \"why's\", \"with\", \"would\", \"you\", \"you'd\", \"you'll\", \"you're\", \"you've\", \"your\", \"yours\", \"yourself\", \"yourselves\" ]\n",
        "print(len(stopwords))\n",
        "# Expected Output\n",
        "# 153"
      ],
      "execution_count": 3,
      "outputs": [
        {
          "output_type": "stream",
          "text": [
            "153\n"
          ],
          "name": "stdout"
        }
      ]
    },
    {
      "cell_type": "code",
      "metadata": {
        "id": "8Z0uqlkTQyXD",
        "colab_type": "code",
        "outputId": "2bfb28f1-3007-47ff-8f61-176cbfc405f8",
        "colab": {
          "resources": {
            "http://localhost:8080/nbextensions/google.colab/files.js": {
              "data": "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",
              "ok": true,
              "headers": [
                [
                  "content-type",
                  "application/javascript"
                ]
              ],
              "status": 200,
              "status_text": ""
            }
          },
          "base_uri": "https://localhost:8080/",
          "height": 74
        }
      },
      "source": [
        "from google.colab import files\n",
        "uploaded = files.upload()"
      ],
      "execution_count": 5,
      "outputs": [
        {
          "output_type": "display_data",
          "data": {
            "text/html": [
              "\n",
              "     <input type=\"file\" id=\"files-8f6dd7dc-c899-4dc4-84ee-9678d24a0e84\" name=\"files[]\" multiple disabled />\n",
              "     <output id=\"result-8f6dd7dc-c899-4dc4-84ee-9678d24a0e84\">\n",
              "      Upload widget is only available when the cell has been executed in the\n",
              "      current browser session. Please rerun this cell to enable.\n",
              "      </output>\n",
              "      <script src=\"/nbextensions/google.colab/files.js\"></script> "
            ],
            "text/plain": [
              "<IPython.core.display.HTML object>"
            ]
          },
          "metadata": {
            "tags": []
          }
        },
        {
          "output_type": "stream",
          "text": [
            "Saving kcc_maharashtra.csv to kcc_maharashtra.csv\n"
          ],
          "name": "stdout"
        }
      ]
    },
    {
      "cell_type": "code",
      "metadata": {
        "id": "L72mUaxmQ88C",
        "colab_type": "code",
        "outputId": "d36876aa-c716-4215-adde-fb58d086fe25",
        "colab": {
          "base_uri": "https://localhost:8080/",
          "height": 151
        }
      },
      "source": [
        "import pandas as pd\n",
        "import io\n",
        "\n",
        "df = pd.read_csv(io.StringIO(uploaded['kcc_maharashtra.csv'].decode('utf-8')))\n",
        "print(df.head())"
      ],
      "execution_count": 7,
      "outputs": [
        {
          "output_type": "stream",
          "text": [
            "   ï»¿Season       Sector  ... BlockName                CreatedOn\n",
            "0        NaN  AGRICULTURE  ...    MUMBAI   2019-04-01T10:39:58.58\n",
            "1        NaN  AGRICULTURE  ...    MUMBAI  2019-04-01T12:06:16.667\n",
            "2        NaN  AGRICULTURE  ...    MUMBAI   2019-04-01T12:26:50.62\n",
            "3        NaN  AGRICULTURE  ...    MUMBAI   2019-04-01T15:01:53.64\n",
            "4        NaN  AGRICULTURE  ...    MUMBAI  2019-04-02T13:33:43.467\n",
            "\n",
            "[5 rows x 11 columns]\n"
          ],
          "name": "stdout"
        }
      ]
    },
    {
      "cell_type": "code",
      "metadata": {
        "id": "wnRqgx8tO1Rl",
        "colab_type": "code",
        "outputId": "94d9479d-6789-4ed9-fd9d-57121a4357e8",
        "colab": {
          "base_uri": "https://localhost:8080/",
          "height": 34
        }
      },
      "source": [
        "sentences = []\n",
        "label = []\n",
        "labels = []\n",
        "with open(\"kcc_maharashtra.csv\",'r') as csvfile:\n",
        "    reader = csv.reader(csvfile, delimiter = ',')\n",
        "    next(reader)\n",
        "    for row in reader:\n",
        "        label.append(row[4])\n",
        "        sentence = row[5]\n",
        "        for word in stopwords:\n",
        "            token = \" \" + word + \" \"\n",
        "            sentence = sentence.replace(token, \" \")\n",
        "            sentence = sentence.replace(\"  \", \" \")\n",
        "        sentences.append((sentence))\n",
        "\n",
        "\n",
        "def remove(string): \n",
        "    s =\"\"\n",
        "    for i in string:\n",
        "      if i not in  ('(', '*', '.', ',', '[') :\n",
        "         s+=i\n",
        "      else :\n",
        "        return \"\".join(s.split())\n",
        "    return \"\".join(s.split())\n",
        "  \n",
        "for word in label:\n",
        "    x = remove(word)\n",
        "    labels.append(x)\n",
        "\n",
        "print(labels[31])\n"
      ],
      "execution_count": 17,
      "outputs": [
        {
          "output_type": "stream",
          "text": [
            "AnimalProduction\n"
          ],
          "name": "stdout"
        }
      ]
    },
    {
      "cell_type": "code",
      "metadata": {
        "id": "pvR05KdRWzJI",
        "colab_type": "code",
        "outputId": "8b9ea826-c618-4f6b-ea62-656010ad3c01",
        "colab": {
          "base_uri": "https://localhost:8080/",
          "height": 101
        }
      },
      "source": [
        "train_size = int(len(sentences) * training_portion)\n",
        "\n",
        "train_sentences = sentences[:train_size]\n",
        "train_labels = labels[:train_size]\n",
        "\n",
        "validation_sentences = sentences[train_size:]\n",
        "validation_labels = labels[train_size:]\n",
        "\n",
        "print(train_size)\n",
        "print(len(train_sentences))\n",
        "print(len(train_labels))\n",
        "print(len(validation_sentences))\n",
        "print(len(validation_labels))\n",
        "\n",
        "# Expected output (if training_portion=.8)\n",
        "# 1780\n",
        "# 1780\n",
        "# 1780\n",
        "# 445\n",
        "# 445"
      ],
      "execution_count": 18,
      "outputs": [
        {
          "output_type": "stream",
          "text": [
            "41063\n",
            "41063\n",
            "41063\n",
            "10266\n",
            "10266\n"
          ],
          "name": "stdout"
        }
      ]
    },
    {
      "cell_type": "code",
      "metadata": {
        "id": "x2vCdlGJXBG6",
        "colab_type": "code",
        "outputId": "943740c3-18a7-4d2d-d8ad-a0f1a8c6a302",
        "colab": {
          "base_uri": "https://localhost:8080/",
          "height": 134
        }
      },
      "source": [
        "tokenizer = Tokenizer(num_words = vocab_size, oov_token=oov_tok)\n",
        "tokenizer.fit_on_texts(train_sentences)\n",
        "word_index = tokenizer.word_index\n",
        "\n",
        "train_sequences = tokenizer.texts_to_sequences(train_sentences)\n",
        "train_padded = pad_sequences(train_sequences, padding=padding_type, maxlen=max_length)\n",
        "\n",
        "print(len(train_sequences[0]))\n",
        "print(len(train_padded[0]))\n",
        "\n",
        "print(len(train_sequences[1]))\n",
        "print(len(train_padded[1]))\n",
        "\n",
        "print(len(train_sequences[10]))\n",
        "print(len(train_padded[10]))\n",
        "print(train_sequences[0])\n",
        "# Expected Ouput\n",
        "# 10\n",
        "# 120\n",
        "# 5\n",
        "# 120\n",
        "# 6\n",
        "# 120"
      ],
      "execution_count": 33,
      "outputs": [
        {
          "output_type": "stream",
          "text": [
            "10\n",
            "120\n",
            "5\n",
            "120\n",
            "6\n",
            "120\n",
            "[3, 2, 1, 251, 1, 1, 22, 20, 114, 228]\n"
          ],
          "name": "stdout"
        }
      ]
    },
    {
      "cell_type": "code",
      "metadata": {
        "id": "jFwBTYqjXFY2",
        "colab_type": "code",
        "outputId": "1f80c23f-408f-4f0e-de7d-d5743231a4a3",
        "colab": {
          "base_uri": "https://localhost:8080/",
          "height": 50
        }
      },
      "source": [
        "validation_sequences = tokenizer.texts_to_sequences(validation_sentences)\n",
        "validation_padded = pad_sequences(validation_sequences, padding=padding_type, maxlen=max_length)\n",
        "\n",
        "print(len(validation_sequences))\n",
        "print(validation_padded.shape)\n",
        "\n",
        "# Expected output\n",
        "# 445\n",
        "# (445, 120)"
      ],
      "execution_count": 20,
      "outputs": [
        {
          "output_type": "stream",
          "text": [
            "10266\n",
            "(10266, 120)\n"
          ],
          "name": "stdout"
        }
      ]
    },
    {
      "cell_type": "code",
      "metadata": {
        "id": "us9zIMaUXIxH",
        "colab_type": "code",
        "outputId": "937ac186-366e-492e-edc8-c331f4bcc8e0",
        "colab": {
          "base_uri": "https://localhost:8080/",
          "height": 202
        }
      },
      "source": [
        "label_tokenizer = Tokenizer()\n",
        "label_tokenizer.fit_on_texts(labels)\n",
        "print(len(labels))\n",
        "\n",
        "\n",
        "\n",
        "training_label_seq = np.array(label_tokenizer.texts_to_sequences(train_labels))\n",
        "\n",
        "validation_label_seq = np.array(label_tokenizer.texts_to_sequences(validation_labels))\n",
        "print(type(training_label_seq))\n",
        "training_label_seq.reshape(41063,1)\n",
        "validation_label_seq.reshape(10266,1)\n",
        "\n",
        "print(training_label_seq[0])\n",
        "print(training_label_seq[1])\n",
        "print(training_label_seq[2])\n",
        "print(training_label_seq.shape)\n",
        "\n",
        "print(validation_label_seq[0])\n",
        "print(validation_label_seq[1])\n",
        "print(validation_label_seq[2])\n",
        "print(validation_label_seq.shape)\n",
        "print(validation_labels[100])"
      ],
      "execution_count": 21,
      "outputs": [
        {
          "output_type": "stream",
          "text": [
            "51329\n",
            "<class 'numpy.ndarray'>\n",
            "[3]\n",
            "[3]\n",
            "[3]\n",
            "(41063,)\n",
            "[1]\n",
            "[9]\n",
            "[1]\n",
            "(10266,)\n",
            "Weather\n"
          ],
          "name": "stdout"
        }
      ]
    },
    {
      "cell_type": "code",
      "metadata": {
        "id": "lq3ueK4TXL73",
        "colab_type": "code",
        "outputId": "67b8af5c-7ba2-4b05-f088-956bbd7ab7b0",
        "colab": {
          "base_uri": "https://localhost:8080/",
          "height": 286
        }
      },
      "source": [
        "model = tf.keras.Sequential([\n",
        "    tf.keras.layers.Embedding(vocab_size, embedding_dim, input_length=max_length),\n",
        "    tf.keras.layers.GlobalAveragePooling1D(),\n",
        "    tf.keras.layers.Dense(24, activation='relu'),\n",
        "    tf.keras.layers.Dense(6, activation='softmax')\n",
        "])\n",
        "model.compile(loss='sparse_categorical_crossentropy',optimizer='adam',metrics=['acc'])\n",
        "model.summary()"
      ],
      "execution_count": 22,
      "outputs": [
        {
          "output_type": "stream",
          "text": [
            "Model: \"sequential_1\"\n",
            "_________________________________________________________________\n",
            "Layer (type)                 Output Shape              Param #   \n",
            "=================================================================\n",
            "embedding_1 (Embedding)      (None, 120, 16)           16000     \n",
            "_________________________________________________________________\n",
            "global_average_pooling1d_1 ( (None, 16)                0         \n",
            "_________________________________________________________________\n",
            "dense_2 (Dense)              (None, 24)                408       \n",
            "_________________________________________________________________\n",
            "dense_3 (Dense)              (None, 6)                 150       \n",
            "=================================================================\n",
            "Total params: 16,558\n",
            "Trainable params: 16,558\n",
            "Non-trainable params: 0\n",
            "_________________________________________________________________\n"
          ],
          "name": "stdout"
        }
      ]
    },
    {
      "cell_type": "code",
      "metadata": {
        "id": "f4r8go_eXObg",
        "colab_type": "code",
        "outputId": "6517b89b-5f04-4941-d225-1e49153d2ac6",
        "colab": {
          "base_uri": "https://localhost:8080/",
          "height": 34
        }
      },
      "source": [
        "print(labels[0])\n",
        "num_epochs = 30\n",
        "\n",
        "model.fit(train_padded, training_label_seq, epochs=num_epochs, validation_data=(validation_padded, validation_label_seq))"
      ],
      "execution_count": 23,
      "outputs": [
        {
          "output_type": "stream",
          "text": [
            "GovernmentSchemes\n"
          ],
          "name": "stdout"
        }
      ]
    },
    {
      "cell_type": "code",
      "metadata": {
        "id": "mS1URDCmXVIT",
        "colab_type": "code",
        "outputId": "28aaad43-d7bd-41d1-9b45-9636adf7a176",
        "colab": {
          "base_uri": "https://localhost:8080/",
          "height": 54
        }
      },
      "source": [
        "reverse_word_index = dict([(value, key) for (key, value) in word_index.items()])\n",
        "print(reverse_word_index)\n",
        "def decode_sentence(text):\n",
        "    return ' '.join([reverse_word_index.get(i, '?') for i in text])\n"
      ],
      "execution_count": 31,
      "outputs": [
        {
          "output_type": "stream",
          "text": [
            "{1: '<OOV>', 2: 'asked', 3: 'farmer', 4: 'about', 5: 'of', 6: 'weather', 7: 'asking', 8: 'forecast', 9: 'market', 10: 'attack', 11: 'query', 12: 'on', 13: 'in', 14: 'for', 15: 'rate', 16: 'block', 17: 'fertilizer', 18: 'onion', 19: 'crop', 20: 'number', 21: 'scheme', 22: 'contact', 23: 'varieties', 24: 'government', 25: 'wheat', 26: 'kisan', 27: 'gram', 28: 'spray', 29: 'cotton', 30: 'nidhi', 31: 'control', 32: 'dose', 33: 'management', 34: 'caterpillar', 35: 'sugarcane', 36: 'insurance', 37: 'weed', 38: 'tehsil', 39: 'growth', 40: 'information', 41: 'district', 42: 'maize', 43: 'borer', 44: 'yojana', 45: 'pradhanmantri', 46: 'sanman', 47: 'blight', 48: 'sucking', 49: 'pest', 50: 'leaf', 51: 'tahsil', 52: 'samman', 53: 'mandi', 54: 'brinjal', 55: 'detail', 56: 'pm', 57: 'sorghum', 58: 'turmeric', 59: 'price', 60: 'iffco', 61: 'eating', 62: 'bengal', 63: 'tokio', 64: 'wilt', 65: 'yojna', 66: 'application', 67: 'mantri', 68: 'pradhan', 69: 'pune', 70: 'no', 71: 'fungal', 72: 'parbhani', 73: 'soil', 74: 'fruit', 75: 'company', 76: 'general', 77: 'ask', 78: 'solapur', 79: 'chilli', 80: 'helpline', 81: 'pea', 82: 'stem', 83: 'need', 84: 'mobile', 85: 'tomato', 86: 'watermelon', 87: 'cultivation', 88: 'told', 89: 'drop', 90: 'ltd', 91: 'white', 92: 'hingoli', 93: 'time', 94: 'mango', 95: 'sowing', 96: 'pomegranate', 97: 'groundnut', 98: 'seed', 99: 'gourd', 100: 'water', 101: 'taluka', 102: 'soybean', 103: 'okra', 104: 'related', 105: 'soyabean', 106: 'worm', 107: 'department', 108: 'testing', 109: 'report', 110: 'shoot', 111: 'flower', 112: 'animal', 113: 'cucumber', 114: 'agriculture', 115: 'pigeon', 116: 'the', 117: 'variety', 118: 'tur', 119: 'nanded', 120: 'toll', 121: 'free', 122: 'card', 123: 'flowering', 124: 'rahuri', 125: 'latur', 126: 'washim', 127: 'treatment', 128: 'krishi', 129: 'akola', 130: 'banana', 131: 'co', 132: 'thrips', 133: 'details', 134: 'aphids', 135: 'coriander', 136: 'preparation', 137: 'sms', 138: 'measure', 139: 'activation', 140: 'to', 141: 'papaya', 142: 'grub', 143: 'bhendi', 144: 'basmat', 145: 'not', 146: 'research', 147: 'fly', 148: 'subsidy', 149: 'status', 150: 'spraying', 151: 'malegaon', 152: 'tahasil', 153: 'potato', 154: 'jalna', 155: 'husbandary', 156: 'and', 157: 'bean', 158: 'nutrient', 159: 'lemon', 160: 'american', 161: '2019', 162: 'drumstick', 163: 'bitter', 164: 'red', 165: 'ahmednagar', 166: 'manwat', 167: 'army', 168: 'increase', 169: 'fall', 170: 'mosambi', 171: 'pusad', 172: 'pod', 173: 'guava', 174: 'yavatmal', 175: 'health', 176: 'jalgaon', 177: 'amravati', 178: 'planting', 179: 'drum', 180: 'ginger', 181: 'ausa', 182: 'stick', 183: 'cabbage', 184: 'bhindi', 185: 'jivamrut', 186: 'problem', 187: 'mahagaon', 188: 'kendra', 189: 'season', 190: 'plant', 191: 'dated', 192: 'catterpillar', 193: 'yellowing', 194: 'melon', 195: 'kolhapur', 196: 'drenching', 197: 'orange', 198: 'phule', 199: 'nashik', 200: 'call', 201: 'university', 202: 'credit', 203: 'beed', 204: 'mahatma', 205: 'bollworm', 206: 'ridge', 207: 'vigyan', 208: 'mangrulpir', 209: 'vidyapeeth', 210: 'udgir', 211: 'cluster', 212: 'pink', 213: 'nagpur', 214: 'jintur', 215: 'local', 216: 'weedicide', 217: 'apr', 218: 'schemes', 219: 'getting', 220: 'dist', 221: 'bhokar', 222: 'digras', 223: 'pandharpur', 224: 'increasing', 225: 'karanja', 226: 'agricultural', 227: 'osmanabad', 228: 'use', 229: 'husbandry', 230: 'govt', 231: 'dhule', 232: 'national', 233: 'sengaon', 234: 'drip', 235: 'measures', 236: 'size', 237: 'lasalgaon', 238: 'yevatmal', 239: 'money', 240: 'purna', 241: 'jowar', 242: 'yeola', 243: 'leaves', 244: 'mumbai', 245: 'fenugreek', 246: 'last', 247: 'rust', 248: 'jassids', 249: 'centre', 250: 'emergence', 251: 'coconut', 252: 'kvk', 253: 'forcast', 254: 'hadgaon', 255: 'khamgaon', 256: 'chillies', 257: 'ambegaon', 258: 'niphad', 259: 'aurangabad', 260: 'phone', 261: 'apple', 262: 'green', 263: 'land', 264: 'risod', 265: 'maharashtra', 266: 'mildew', 267: 'tell', 268: 'lab', 269: 'katol', 270: 'miner', 271: 'cauliflower', 272: 'center', 273: 'man', 274: 'me', 275: 'boll', 276: 'controll', 277: 'date', 278: 'custard', 279: 'officer', 280: 'krushi', 281: 'registration', 282: 'loan', 283: 'powdery', 284: 'how', 285: 'barshi', 286: 'lime', 287: 'issue', 288: 'fungus', 289: 'capsicum', 290: 'aundha', 291: 'nagnath', 292: 'care', 293: 'grapes', 294: 'kalamnuri', 295: 'sangli', 296: 'help', 297: 'nut', 298: 'georai', 299: 'varities', 300: 'acid', 301: 'fertiliser', 302: 'marigold', 303: 'customer', 304: 'state', 305: 'tokiyo', 306: 'rahata', 307: 'nasik', 308: 'line', 309: 'farming', 310: 'from', 311: 'fodder', 312: 'kinwat', 313: 'sailu', 314: 'tahshil', 315: 'farm', 316: 'oriental', 317: 'buldana', 318: 'pre', 319: 'minister', 320: 'umarkhed', 321: 'amount', 322: 'prime', 323: 'summer', 324: 'fallow', 325: 'citrus', 326: 'jalana', 327: 'sangamner', 328: 'mohol', 329: 'himayatnagar', 330: 'doses', 331: 'kalwan', 332: 'bulb', 333: 'mushroom', 334: 'nilanga', 335: 'pmfby', 336: 'sets', 337: 'ner', 338: 'at', 339: 'sillod', 340: 'kharif', 341: 'bottle', 342: 'ahmadnagar', 343: 'jath', 344: 'shirur', 345: 'musk', 346: 'grass', 347: 'akkalkot', 348: 'raja', 349: 'grape', 350: 'biloli', 351: 'cow', 352: 'controlling', 353: 'irrigation', 354: 'rabbi', 355: 'arni', 356: 'laboratory', 357: 'garlic', 358: 'beans', 359: 'ground', 360: 'exhibition', 361: 'cane', 362: 'claim', 363: 'stage', 364: 'pomogranate', 365: 'preventive', 366: 'miraj', 367: 'san', 368: 'station', 369: 'address', 370: 'nodal', 371: 'satara', 372: 'pearl', 373: 'central', 374: 'practices', 375: 'loha', 376: 'buldhana', 377: 'chandwad', 378: 'millet', 379: 'training', 380: 'kopargaon', 381: 'karmala', 382: 'baglan', 383: 'paddy', 384: 'pump', 385: 'fasal', 386: '12', 387: 'protection', 388: 'indapur', 389: 'wardha', 390: 'disease', 391: 'period', 392: 'trash', 393: 'cultural', 394: 'pumpkin', 395: 'poultry', 396: 'chikhli', 397: 'bajra', 398: 'wilting', 399: 'bima', 400: 'hoppers', 401: 'plantation', 402: 'cowpea', 403: 'lonar', 404: 'madha', 405: 'balapur', 406: 'umri', 407: 'bahar', 408: 'payment', 409: 'gummosis', 410: 'chandur', 411: 'dbt', 412: 'sugar', 413: 'dharur', 414: 'pik', 415: 'catterpilar', 416: 'deposit', 417: 'amarawati', 418: 'inter', 419: 'akot', 420: 'limited', 421: 'vima', 422: 'comapny', 423: 'horticulture', 424: 'panhala', 425: 'tasgaon', 426: 'nutrients', 427: 'solar', 428: 'mites', 429: 'deglur', 430: 'through', 431: 'black', 432: 'website', 433: 'crops', 434: 'sesame', 435: 'partur', 436: 'duration', 437: 'field', 438: 'mpkv', 439: 'deulgaon', 440: 'bajri', 441: 'india', 442: 'nandgaon', 443: 'mangement', 444: 'incomplete', 445: 'project', 446: 'bhokardan', 447: 'managment', 448: 'dhan', 449: 'goat', 450: 'distance', 451: 'institute', 452: 'kandhar', 453: 'ark', 454: 'post', 455: 'selu', 456: 'bajara', 457: 'darwha', 458: 'telhara', 459: 'â\\xa0yojna', 460: 'download', 461: 'dharmabad', 462: 'naigaon', 463: 'effect', 464: 'herbicide', 465: 'root', 466: 'majalgaon', 467: 'baramati', 468: 'kille', 469: 'college', 470: 'storage', 471: 'bank', 472: 'barshitakli', 473: 'dr', 474: 'equipments', 475: 'shevgaon', 476: 'marathwada', 477: 'guard', 478: 'mehkar', 479: 'suitable', 480: 'vasantrao', 481: 'harvesting', 482: 'apmc', 483: 'ratoon', 484: 'vegetable', 485: 'rot', 486: 'nandura', 487: 'aphid', 488: 's', 489: 'production', 490: 'naik', 491: 'fertigation', 492: 'sunflower', 493: 'yawal', 494: 'check', 495: 'â\\xa0installment', 496: 'chakur', 497: 'tuljapur', 498: 'amrawati', 499: 'leafy', 500: 'bhausaheb', 501: 'deposited', 502: 'chilly', 503: 'insecticide', 504: 'omerga', 505: 'shrirampur', 506: 'lakhandur', 507: 'account', 508: 'bout', 509: 'maregaon', 510: 'cracking', 511: 'pachora', 512: 'amaravati', 513: 'mantha', 514: 'sinnar', 515: 'od', 516: 'sapota', 517: 'jawar', 518: 'fisheries', 519: 'rose', 520: 'office', 521: 'sweet', 522: 'motala', 523: 'badnapur', 524: 'pathri', 525: 'sakri', 526: 'availability', 527: 'marketing', 528: 'indian', 529: 'or', 530: 'spacing', 531: 'jafrabad', 532: 'paranda', 533: 'chikhali', 534: 'french', 535: 'shrigonda', 536: 'disconnected', 537: 'ambad', 538: 'maan', 539: 'bug', 540: 'fertilizers', 541: '20', 542: 'tree', 543: 'sangali', 544: 'nagar', 545: 'regarding', 546: 'farmers', 547: 'attck', 548: 'kaij', 549: 'technical', 550: 'nevasa', 551: 'safflower', 552: 'â\\xa0information', 553: 'armyworm', 554: 'dapoli', 555: 'board', 556: 'mealy', 557: 'sesamum', 558: 'tinda', 559: 'spot', 560: 'kissan', 561: 'nursery', 562: 'kalamb', 563: 'adverse', 564: 'caterpiller', 565: 'whole', 566: 'input', 567: 'decomposing', 568: 'mokhed', 569: 'fungicide', 570: 'minor', 571: 'rice', 572: 'manora', 573: 'ambajogai', 574: 'ghansawangi', 575: 'insect', 576: 'fert', 577: 'tuberose', 578: 'kmy', 579: 'pantpradhan', 580: 'app', 581: 'apply', 582: 'seeds', 583: 'mahur', 584: 'virus', 585: 'benefit', 586: 'chandrapur', 587: 'bee', 588: 'mite', 589: 'corn', 590: 'radish', 591: 'rat', 592: 'jamner', 593: 'washi', 594: 'bazar', 595: 'akole', 596: 'spinach', 597: 'beet', 598: 'carrot', 599: 'pmksn', 600: 'deshmukh', 601: 'tirora', 602: 'online', 603: 'arhar', 604: 'sangrampur', 605: 'bhandara', 606: 'gangakhed', 607: 'late', 608: 'fallworm', 609: 'other', 610: 'balasaheb', 611: 'sawant', 612: 'is', 613: 'karad', 614: 'which', 615: 'maze', 616: 'moong', 617: 'waiver', 618: 'squash', 619: '13', 620: 'muskmelon', 621: 'yield', 622: 'amalner', 623: 'icici', 624: 'lombard', 625: 'development', 626: 'dropping', 627: 'pvt', 628: 'pathardi', 629: 'methi', 630: 'ghatanji', 631: 'chick', 632: 'mangalvedhe', 633: 'contect', 634: 'yogna', 635: 'konkan', 636: 'survey', 637: 'organic', 638: 'chandvad', 639: 'pimpalgaon', 640: 'chana', 641: 'wai', 642: 'diesel', 643: 'rabi', 644: 'what', 645: 'tehasil', 646: 'per', 647: 'vegetables', 648: 'jasmine', 649: 'umared', 650: 'quantity', 651: 'pond', 652: 'days', 653: 'regional', 654: 'kagal', 655: 'reliance', 656: 'ratnagiri', 657: 'minimum', 658: 'deola', 659: 'increases', 660: 'narkhed', 661: 'pigeaon', 662: 'â\\xa0root', 663: 'eligibility', 664: 'criteria', 665: 'thane', 666: 'neem', 667: 'pesticide', 668: 'ardhapur', 669: 'mission', 670: '27', 671: 'seedling', 672: 'termite', 673: 'phundkar', 674: 'chalisgaon', 675: 'decomposition', 676: 'lucerne', 677: 'karvir', 678: 'fig', 679: 'newasa', 680: 'karjat', 681: 'installment', 682: 'morshi', 683: 'phaltan', 684: 'error', 685: 'know', 686: 'basmath', 687: 'enrollment', 688: 'cropped', 689: 'slurry', 690: 'curl', 691: 'dashparni', 692: 'process', 693: 'drought', 694: 'stop', 695: '1', 696: 'jeevamrut', 697: 'medicinal', 698: 'plants', 699: 'system', 700: 'lucern', 701: 'pimpri', 702: 'method', 703: '15', 704: 'sponge', 705: 'up', 706: 'coriender', 707: 'lakhani', 708: 'gevrai', 709: 'm', 710: 'sangola', 711: 'garden', 712: 'jiwati', 713: 'yavtmal', 714: 'palam', 715: 'want', 716: 'north', 717: 'dindori', 718: 'mandhan', 719: 'â\\xa0improved', 720: 'correction', 721: 'beneficiary', 722: 'cucumbar', 723: 'sound', 724: 'ber', 725: 'napier', 726: 'shetkari', 727: 'rajura', 728: 'nafed', 729: 'pests', 730: 'ganaral', 731: 'nimboli', 732: 'icar', 733: 'cut', 734: 'mar', 735: 'mulshi', 736: 'used', 737: 'link', 738: 'tamarind', 739: 'allianz', 740: 'shegaon', 741: 'wood', 742: 'bajar', 743: 'wadwani', 744: 'falling', 745: 'bhokardhan', 746: 'voice', 747: 'verieties', 748: 'koregaon', 749: 'bordo', 750: 'sonpeth', 751: 'patur', 752: 'igatpuri', 753: 'blank', 754: 'hortnet', 755: 'seedlings', 756: 'prices', 757: 'soyabin', 758: 'condition', 759: 'stalk', 760: 'asabout', 761: 'germination', 762: 'agri', 763: 'plot', 764: 'procedure', 765: 'drying', 766: 'processing', 767: '05', 768: 'purandar', 769: 'milk', 770: 'fundkar', 771: 'agro', 772: 'nandurbar', 773: 'bajaj', 774: 'earthing', 775: 'intercrop', 776: 'malkapur', 777: 'sindkhedraja', 778: 'sandal', 779: 'panjabrao', 780: 'insurence', 781: 'manvat', 782: 'jamkhed', 783: 'warora', 784: 'uses', 785: 'umred', 786: 'decompose', 787: 'railway', 788: 'g', 789: 'anudan', 790: 'support', 791: 'naidi', 792: 'kheera', 793: 'kcc', 794: 'vermicompost', 795: 'tractor', 796: 'catterpiller', 797: 'farmeasked', 798: '22', 799: '29', 800: 'evaporation', 801: 'mahtama', 802: 'based', 803: 'plan', 804: 'parola', 805: 'chili', 806: 'vikas', 807: 'requirement', 808: 'manjiri', 809: 'pig', 810: 'veterinary', 811: 'arvi', 812: 'kuhi', 813: 'parali', 814: 'parner', 815: 'chemical', 816: 'setting', 817: 'jack', 818: 'tiwsa', 819: 'anjangaon', 820: 'early', 821: 'bihar', 822: 'kisaan', 823: 'kadegaon', 824: 'shirala', 825: 'wooly', 826: 'jamun', 827: 'jalkot', 828: 'deoni', 829: \"today's\", 830: 'renapur', 831: 'name', 832: 'castor', 833: 'acre', 834: 'operation', 835: 'silage', 836: 'contract', 837: 'buffalo', 838: 'commissioner', 839: 'sample', 840: 'shivaji', 841: 'termites', 842: 'chopda', 843: 'sum', 844: 'insured', 845: 'yet', 846: 'waether', 847: 'hydroponics', 848: 'ambegoan', 849: 'coriandar', 850: 'stress', 851: 'khed', 852: 'managemnt', 853: 'antitransparant', 854: 'jamod', 855: 'intercropping', 856: 'bijamrut', 857: 'bhusawal', 858: 'manure', 859: 'sprouting', 860: 'cashew', 861: 'material', 862: 'mosaic', 863: 'ashti', 864: 'premium', 865: 'ahamadnagar', 866: 'verities', 867: 'gondia', 868: 'mul', 869: 'bhivapur', 870: 'saoner', 871: 'downy', 872: 'khatav', 873: 'moshi', 874: 'bz', 875: 'achalpur', 876: 'shirpur', 877: 'anudaan', 878: 'strawberry', 879: 'warm', 880: 'snail', 881: 'sugercane', 882: 'miss', 883: 'form', 884: 'division', 885: 'aromatic', 886: 'humic', 887: 'power', 888: 'shengaon', 889: 'product', 890: 'branching', 891: 'question', 892: 'hadgoan', 893: 'maharaj', 894: 'compost', 895: 'this', 896: 'benifit', 897: 'complaint', 898: 'store', 899: 'tamrind', 900: 'junnar', 901: 'temperature', 902: 'fishery', 903: 'chrysanthemum', 904: 'asparagus', 905: 'vidnyan', 906: 'muktainagar', 907: 'infestation', 908: 'sindi', 909: 'house', 910: 'bhoom', 911: 'lohara', 912: 'well', 913: 'shahuwadi', 914: 'near', 915: 'organization', 916: 'sanjivani', 917: 'cropping', 918: 'dragon', 919: 'by', 920: 'committee', 921: 'basawant', 922: 'vera', 923: 'k', 924: 'vinchur', 925: 'different', 926: 'inflorescence', 927: 'fish', 928: 'licence', 929: 'termeric', 930: 'clinic', 931: 'cutting', 932: 'savner', 933: 'dry', 934: 'ralegaon', 935: 'yewatmal', 936: 'service', 937: 'smut', 938: 'seva', 939: 'paste', 940: 'chandurbazar', 941: 'manwath', 942: 'orchard', 943: 'framer', 944: 'hinganghat', 945: 'paisa', 946: 'sate', 947: 'manjari', 948: 'kalvan', 949: 'malshiras', 950: 'new', 951: 'spry', 952: 'major', 953: 'aske', 954: 'due', 955: 'sugarcan', 956: '30', 957: 'ended', 958: 'without', 959: 'will', 960: 'nematodes', 961: 'dairy', 962: 'armer', 963: 'grafting', 964: 'kh', 965: 'average', 966: 'less', 967: 'pomegranet', 968: 'bhor', 969: 'mahagoan', 970: '11', 971: 'planted', 972: 'ambejogai', 973: 'bamboo', 974: '2018', 975: 'honey', 976: 'bhadgaon', 977: 'papya', 978: 'chimur', 979: 'i', 980: 'r', 981: 'area', 982: 'grain', 983: 'famer', 984: 'jalgaonjamod', 985: 'duck', 986: 'cumin', 987: 'cleaning', 988: 'wild', 989: 'v', 990: 'cattle', 991: 'manmad', 992: 'aloe', 993: 'your', 994: 'sinner', 995: 'forest', 996: 'dept', 997: 'wrong', 998: 'gondiya', 999: 'chief', 1000: 'ash', 1001: 'bio', 1002: 'kalmeshwar', 1003: 'nabard', 1004: 'azolla', 1005: 'beetle', 1006: 'daryapur', 1007: 'dhamangaon', 1008: 'warud', 1009: 'e', 1010: 'regestation', 1011: 'bhiar', 1012: 'editing', 1013: 'proper', 1014: 'disel', 1015: 'can', 1016: 'valva', 1017: 'baout', 1018: 'murtijapur', 1019: 'barshitakali', 1020: 'mohal', 1021: 'south', 1022: 'nrc', 1023: 'fertilize', 1024: 'malegoan', 1025: 'â\\xa0cotton', 1026: 'suvidha', 1027: 'cm', 1028: 'pmksy', 1029: 'vaerity', 1030: 'ratooning', 1031: 'precautionary', 1032: 'panchayat', 1033: 'does', 1034: 'respond', 1035: 'side', 1036: 'former', 1037: 'atma', 1038: 'extract', 1039: 'farme', 1040: 'month', 1041: '3', 1042: 'test', 1043: 'falbag', 1044: 'modkhed', 1045: 'collection', 1046: 'numbers', 1047: 'site', 1048: 'filling', 1049: 'technology', 1050: 'animals', 1051: 'hibiscus', 1052: 'daund', 1053: 'next', 1054: 'chhatrapati', 1055: 'whether', 1056: 'palm', 1057: 'companies', 1058: 'oily', 1059: 'vidyan', 1060: 'iifco', 1061: 'rearing', 1062: '19', 1063: 'adress', 1064: 'purpose', 1065: '4', 1066: 'chilies', 1067: 'a', 1068: 'regulator', 1069: 'radhanagari', 1070: 'sericulture', 1071: '25', 1072: 'gaon', 1073: 'after', 1074: 'bori', 1075: 'nanaji', 1076: 'pumkin', 1077: 'trichoderma', 1078: 'samiti', 1079: 'wadvani', 1080: 'percentage', 1081: 'kopergaon', 1082: 'produce', 1083: 'soyabeen', 1084: '2', 1085: 'p', 1086: 'murghas', 1087: 'gopinath', 1088: 'munde', 1089: \"minister's\", 1090: 'korpana', 1091: 'pauni', 1092: 'combine', 1093: 'harvester', 1094: 'kamthi', 1095: 'jain', 1096: 'umerkhed', 1097: 'dharwa', 1098: 'waste', 1099: 'kelapur', 1100: 'n', 1101: 'rrcs', 1102: 'mixture', 1103: 'msamb', 1104: 'dolichos', 1105: 'timing', 1106: 'mustard', 1107: 'â\\xa0', 1108: 'extension', 1109: 'shindkhede', 1110: 'nal', 1111: 'pmksny', 1112: 'saman', 1113: 'khanapur', 1114: 'various', 1115: 'kalmnuri', 1116: 'course', 1117: 'grown', 1118: 'aksed', 1119: 'unit', 1120: 'caterpilar', 1121: 'mangarulpir', 1122: 'culture', 1123: 'portal', 1124: 'yojn', 1125: 'growing', 1126: 'linseed', 1127: 'reddning', 1128: 'damage', 1129: 'tambera', 1130: 'â\\xa0farmer', 1131: 'chc', 1132: 'pomogrenete', 1133: 'intercroping', 1134: 'desk', 1135: 'sanmaan', 1136: 'rotting', 1137: 'cell', 1138: 'maandhan', 1139: 'ambe', 1140: 'oil', 1141: 'sanmman', 1142: 'web', 1143: '03', 1144: 'sandalwood', 1145: 'machine', 1146: 'questions', 1147: 'vasantdada', 1148: 'askeda', 1149: 'paper', 1150: 'forum', 1151: 'rhizomes', 1152: 'redgram', 1153: 'mukhed', 1154: '10', 1155: 'years', 1156: 'raw', 1157: 'week', 1158: 'rainfall', 1159: 'humidity', 1160: 'bhadrawati', 1161: 'haveli', 1162: 'sun', 1163: '24', 1164: 'folier', 1165: 'dosage', 1166: 'dhaincha', 1167: 'silk', 1168: 'cutworm', 1169: 'damping', 1170: 'trees', 1171: 'required', 1172: 'lagwad', 1173: '7', 1174: 'machinery', 1175: 'fym', 1176: 'director', 1177: 'aamravati', 1178: 'flies', 1179: '00', 1180: 'nematode', 1181: 'aked', 1182: 'poly', 1183: 'nhm', 1184: 'laboratories', 1185: 'urea', 1186: '6345', 1187: 'vidhyapeeth', 1188: 'intercrops', 1189: 'osmanbad', 1190: 'feeding', 1191: '5', 1192: 'science', 1193: 'hatkangale', 1194: 'ants', 1195: 'off', 1196: 'sindhkhedraja', 1197: 'gladiolus', 1198: 'fruits', 1199: '17', 1200: 'united', 1201: 'gujarat', 1202: 'manjri', 1203: 'industry', 1204: 'irrelevent', 1205: 'maturity', 1206: 'sangmner', 1207: 'tulsi', 1208: 'yellow', 1209: 'b', 1210: 'gansawangi', 1211: 'sprinkler', 1212: 'tata', 1213: 'diseases', 1214: 'foreact', 1215: 'equipment', 1216: 'ramtek', 1217: 'parseoni', 1218: 'yeotmal', 1219: 'darwa', 1220: 'decomposer', 1221: 'formation', 1222: 'rhinoceros', 1223: 'solution', 1224: 'santra', 1225: 'breed', 1226: 'edit', 1227: 'list', 1228: 'please', 1229: 'commodity', 1230: 'palus', 1231: 'ferilizer', 1232: 'deoli', 1233: 'moth', 1234: 'jute', 1235: 'mangalvedha', 1236: 'vsi', 1237: 'nrcg', 1238: 'tao', 1239: 'mh', 1240: 'manglurpir', 1241: 'veema', 1242: 'ghass', 1243: 'common', 1244: 'agrostar', 1245: 'msp', 1246: 'operations', 1247: 'watering', 1248: 'extra', 1249: 'dabout', 1250: 'canker', 1251: 'vambori', 1252: 'pradarshan', 1253: 'hadapsar', 1254: 'expo', 1255: 'ec', 1256: 'paid', 1257: 'sown', 1258: \"farmer's\", 1259: 'needs', 1260: 'saline', 1261: 'lentil', 1262: 'incomplite', 1263: 'pardhan', 1264: 'agriclinic', 1265: 'chandan', 1266: 'kanya', 1267: 'kaushal', 1268: 'soybaen', 1269: 'mashroom', 1270: 'pradesh', 1271: 'finger', 1272: 'shed', 1273: 'net', 1274: 'prepare', 1275: 'ratio', 1276: 'corinder', 1277: 'shepu', 1278: 'vareity', 1279: 'saffron', 1280: 'mulching', 1281: 'pulgaon', 1282: 'umari', 1283: 'preservation', 1284: 'hadagaon', 1285: 'where', 1286: 'gujrat', 1287: 'received', 1288: 'bhiwapur', 1289: 'scorching', 1290: 'gov', 1291: 'grow', 1292: 'cloudy', 1293: 'possibility', 1294: 'be', 1295: 'taken', 1296: 'dudhani', 1297: 'masik', 1298: '1800', 1299: 'powder', 1300: 'protect', 1301: 'honeybee', 1302: 'archive', 1303: 'rps', 1304: '76', 1305: 'silicon', 1306: 'pratices', 1307: 'avoid', 1308: 'mint', 1309: 'phalbag', 1310: 'divisional', 1311: 'shivajinagar', 1312: 'hopper', 1313: 'rolling', 1314: 'transplanting', 1315: 'content', 1316: 'jalgoan', 1317: 'lagvad', 1318: 'apmcs', 1319: 'samudrapur', 1320: 'village', 1321: 'nutrition', 1322: 'algae', 1323: 'osmnabad', 1324: 'vihir', 1325: '18', 1326: 'gerbera', 1327: 'umarga', 1328: 'dieback', 1329: 'deactivation', 1330: 'better', 1331: 'implements', 1332: 'l', 1333: 'reduce', 1334: 'gagan', 1335: 'bhudargad', 1336: 'gadhinglaj', 1337: 'daily', 1338: 'bambu', 1339: '9', 1340: 'rotation', 1341: 'plantion', 1342: 'job', 1343: 'measurement', 1344: 'grant', 1345: 'askd', 1346: 'patoda', 1347: 'goverment', 1348: 'rahta', 1349: 'mansoon', 1350: 'imarket', 1351: 'kej', 1352: 'shevga', 1353: 'making', 1354: 'abut', 1355: 'genral', 1356: 'micro', 1357: 'total', 1358: 'anjan', 1359: 'ghodegaon', 1360: 'irrelevant', 1361: 'pomogrnate', 1362: 'proportion', 1363: 'vein', 1364: 'kidney', 1365: 'roots', 1366: 'jackfruit', 1367: 'branch', 1368: 'liter', 1369: 'releted', 1370: 'chillie', 1371: 'aig', 1372: 'loss', 1373: 'year', 1374: 'bittergourd', 1375: 'reaction', 1376: 'type', 1377: 'person', 1378: 'manage', 1379: 'accident', 1380: 'urd', 1381: 'bhiwandi', 1382: 'atal', 1383: 'tonic', 1384: 'okara', 1385: 'askeed', 1386: 'rural', 1387: 'foundation', 1388: 'mangrulpeer', 1389: 'delhi', 1390: 'brijal', 1391: 'ga', 1392: 'he', 1393: 'best', 1394: 'yawatmal', 1395: 'mahagao', 1396: 'potassium', 1397: 'vani', 1398: 'keeping', 1399: 'bock', 1400: 'peg', 1401: 'fertilzer', 1402: 'fund', 1403: 'when', 1404: 'kurkheda', 1405: 'ril', 1406: 'tiwasa', 1407: 'surji', 1408: 'selection', 1409: 'pathari', 1410: 'almond', 1411: 'krshi', 1412: 'pegion', 1413: 'pusa', 1414: 'jawala', 1415: 'devala', 1416: 'plz', 1417: 'mgt', 1418: 'csc', 1419: 'curling', 1420: 'back', 1421: 'fruiting', 1422: 'kavathemahankal', 1423: 'vita', 1424: 'export', 1425: 'jat', 1426: 'islampur', 1427: 'deficiency', 1428: 'bskkv', 1429: 'vengurla', 1430: 'aundhanagnath', 1431: 'basamat', 1432: 'primary', 1433: 'natural', 1434: 'cooperative', 1435: 'colour', 1436: 'rabit', 1437: 'barsi', 1438: 'top', 1439: 'pods', 1440: 'mangrul', 1441: 'pir', 1442: 'irrigated', 1443: 'copper', 1444: 'broad', 1445: 'emergent', 1446: 'first', 1447: 'reddening', 1448: 'gauva', 1449: 'mamurabad', 1450: 'cultivated', 1451: 'its', 1452: 'preperation', 1453: 'old', 1454: 'pgi', 1455: 'phm', 1456: 'roha', 1457: 'copping', 1458: 'peas', 1459: 'qualification', 1460: 'heavy', 1461: 'bacterial', 1462: 'info', 1463: 'sugarbeet', 1464: 'get', 1465: 'phale', 1466: 'bhajipura', 1467: 'chloropyriphos', 1468: '45', 1469: 'micronutrient', 1470: '303', 1471: 'woolly', 1472: 'prevent', 1473: 'mulberry', 1474: 'talsande', 1475: 'kolahapur', 1476: 'youjna', 1477: 'beej', 1478: 'koop', 1479: 'changes', 1480: 'otp', 1481: 'frost', 1482: 'preemergence', 1483: 'intercultural', 1484: '16', 1485: 'pocra', 1486: 'license', 1487: 'virgin', 1488: 'saller', 1489: 'irrelevan', 1490: 'kitchen', 1491: 'gardening', 1492: 'himachal', 1493: 'fill', 1494: 'ehsil', 1495: '04', 1496: 'dont', 1497: 'boring', 1498: 'dill', 1499: 'antitranspirant', 1500: 'tillage', 1501: 'done', 1502: 'tubrose', 1503: 'betel', 1504: 'vine', 1505: 'purchase', 1506: 'ribbed', 1507: 'consumer', 1508: 'fundakar', 1509: 'above', 1510: 'shatrapati', 1511: 'himaytnagar', 1512: 'umbri', 1513: 'debt', 1514: 'ofturmeric', 1515: 'sorgum', 1516: 'sub', 1517: 'caltivation', 1518: 'pigon', 1519: 'sengav', 1520: 'hatgoan', 1521: 'iffcotokio', 1522: 'maharastra', 1523: 'himayatmnagar', 1524: 'turemric', 1525: 'distict', 1526: 'chances', 1527: 'max', 1528: 'min', 1529: 'wind', 1530: 'speed', 1531: 'kmph', 1532: 'harvest', 1533: 'fresh', 1534: 'heat', 1535: 'chilles', 1536: 'purandhar', 1537: 'ratemumbai', 1538: 'kg', 1539: 'burn', 1540: 'punjab', 1541: 'ambegao', 1542: 'ambegav', 1543: 'mangment', 1544: 'bugs', 1545: 'purander', 1546: 'document', 1547: 'tourism', 1548: 'narayangaon', 1549: 'sheep', 1550: 'er', 1551: 'custerd', 1552: 'institude', 1553: 'rotundus', 1554: 'expert', 1555: 'taking', 1556: 'powdary', 1557: 'saur', 1558: 'whitefly', 1559: 'sunburn', 1560: 'register', 1561: 'tiller', 1562: 'sakhar', 1563: 'sankul', 1564: 'combination', 1565: 'apps', 1566: 'hapus', 1567: 'nursary', 1568: 'chllies', 1569: 'head', 1570: 'kukut', 1571: 'under', 1572: 'khadi', 1573: '6400', 1574: '6350', 1575: 'sugarane', 1576: 'kalam', 1577: 'clusterbean', 1578: 'magel', 1579: 'tyala', 1580: 'sinchan', 1581: \"farmers'\", 1582: '2017', 1583: 'vnr', 1584: 'showing', 1585: 'specification', 1586: 'patil', 1587: 'gaganbavada', 1588: 'radhanagri', 1589: 'transpiration', 1590: 'moog', 1591: 'sunhemp', 1592: 'karveer', 1593: 'bawada', 1594: 'bavda', 1595: 'climate', 1596: 'nim', 1597: 'namdhari', 1598: 'chandgad', 1599: 'ajara', 1600: 'lilium', 1601: 'grassy', 1602: 'jalgaojamod', 1603: 'pigean', 1604: 'moasambi', 1605: 'electricity', 1606: 'hector', 1607: 'deulgav', 1608: 'sindkhed', 1609: 'delivery', 1610: 'malakapur', 1611: 'distric', 1612: 'warehouse', 1613: 'jalgao', 1614: 'ayurvedic', 1615: 'pharmaceutical', 1616: 'ghas', 1617: 'mil', 1618: 'propagation', 1619: 'vacancy', 1620: 'sow', 1621: 'viride', 1622: 'grains', 1623: 'shm', 1624: 'groundwater', 1625: 'directorate', 1626: 'surveys', 1627: 'agency', 1628: 'panvel', 1629: 'gevari', 1630: 'viz', 1631: 'bores', 1632: 'dear', 1633: 'chital', 1634: 'sambar', 1635: 'blackbuck', 1636: 'nilgai', 1637: 'langoors', 1638: 'elephants', 1639: 'hydroponic', 1640: 'bhnedi', 1641: 'georia', 1642: 'rashtriya', 1643: 'chemicals', 1644: 'ka', 1645: 'khadki', 1646: 'integrated', 1647: 'copntact', 1648: 'schedule', 1649: 'assistant', 1650: 'sardar', 1651: 'imd', 1652: 'weeds', 1653: 'skill', 1654: 'rateof', 1655: 'nrcp', 1656: 'gochid', 1657: 'bird', 1658: 'arrivals', 1659: 'commodities', 1660: 'shrigondha', 1661: 'medicines', 1662: 'pruning', 1663: 'forecas', 1664: 't', 1665: 'shevgoan', 1666: 'vibhag', 1667: 'disconnect', 1668: 'asaked', 1669: 'advantage', 1670: 'upl', 1671: 'kharip', 1672: 'wbcis', 1673: 'ghansangvi', 1674: 'kasabe', 1675: 'bhokrdhan', 1676: 'bhumi', 1677: 'badlapur', 1678: 'jago', 1679: 'shop', 1680: 'plating', 1681: 'quality', 1682: 'make', 1683: 'rain', 1684: 'fertility', 1685: 'dealers', 1686: 'anti', 1687: 'chestnut', 1688: 'varietys', 1689: 'nhb', 1690: 'borewell', 1691: 'vegetative', 1692: 'pointed', 1693: 'grasshopper', 1694: 'bore', 1695: 'maximum', 1696: '21', 1697: 'saoli', 1698: 'gadchiroli', 1699: 'sindewahi', 1700: 'holstein', 1701: 'tumsar', 1702: 'out', 1703: 'hybrid', 1704: 'pdkv', 1705: 'also', 1706: 'forecastof', 1707: 'mouda', 1708: 'hectare', 1709: 'bel', 1710: 'livestock', 1711: 'yevtmal', 1712: 'anand', 1713: 'horse', 1714: 'federation', 1715: 'tahsi', 1716: 'ofsoyabean', 1717: 'shatawari', 1718: 'askinf', 1719: 'mixing', 1720: 'two', 1721: 'kokan', 1722: 'reducing', 1723: 'mahabaleshwar', 1724: 'mahgoan', 1725: 'karnja', 1726: 'superintendent', 1727: 'sampling', 1728: 'viral', 1729: 'borgaon', 1730: 'clean', 1731: 'low', 1732: 'straberry', 1733: 'soluble', 1734: 'micronutrients', 1735: 'telephone', 1736: 'tollfree', 1737: 'allocation', 1738: 'compony', 1739: 'armori', 1740: 'dharni', 1741: 'plastic', 1742: 'basil', 1743: 'seloo', 1744: 'disrict', 1745: 'ofparbhani', 1746: 'classification', 1747: 'satana', 1748: 'kup', 1749: 'my', 1750: 'reg', 1751: '2351480683226', 1752: 'diseal', 1753: 'poor', 1754: 'krisi', 1755: 'nalkoop', 1756: 'bottlegourd', 1757: 'die', 1758: 'hai', 1759: 'sector', 1760: 'gir', 1761: 'fungi', 1762: 'all', 1763: 'farmert', 1764: 'modern', 1765: 'methods', 1766: 'bharti', 1767: 'axa', 1768: 'bhoomi', 1769: 'reaserch', 1770: 'ashwagandha', 1771: 'types', 1772: 'safa', 1773: 'private', 1774: 'asdked', 1775: 'kalyan', 1776: 'yoajana', 1777: 'vasmat', 1778: 'tehshil', 1779: 'devani', 1780: 'turmeic', 1781: 'aunda', 1782: 'hongoli', 1783: 'naganath', 1784: 'kalumneri', 1785: 'planning', 1786: '8', 1787: 'nagapur', 1788: 'hinghanghat', 1789: 'abot', 1790: 'revenue', 1791: 'abou', 1792: 'nandubar', 1793: 'zinc', 1794: 'coton', 1795: 'laslgaon', 1796: 'chickpea', 1797: 'but', 1798: 'magazine', 1799: 'cumcumber', 1800: 'hoe', 1801: 'collect', 1802: 'onoin', 1803: 'population', 1804: '500', 1805: '1000', 1806: 'frmer', 1807: 'akluj', 1808: 'ankur', 1809: 'mhada', 1810: 'udyog', 1811: 'karamala', 1812: 'jalgaov', 1813: 'sholapur', 1814: 'sprout', 1815: 'systems', 1816: 'phase', 1817: 'askedabout', 1818: 'malegaonwashim', 1819: 'sked', 1820: 'manrulpir', 1821: 'ridgegourd', 1822: 'lad', 1823: 'branches', 1824: 'mug', 1825: 'guinea', 1826: 'baswant', 1827: 'long', 1828: 'basvant', 1829: 'wp', 1830: 'trimbak', 1831: 'malegao', 1832: 'set', 1833: 'sarkar', 1834: 'musturd', 1835: 'fertilizes', 1836: 'lasalgoan', 1837: 'ned', 1838: 'commissionerate', 1839: 'lasalgav', 1840: 'pashu', 1841: 'mealybug', 1842: 'varietty', 1843: 'manuring', 1844: 'cutivation', 1845: 'schme', 1846: 'flowers', 1847: 'change', 1848: 'feed', 1849: 'pound', 1850: 'cumbu', 1851: 'calamities', 1852: 'sulphate', 1853: 'ph', 1854: 'level', 1855: 'breeding', 1856: 'brnjal', 1857: 'ladyfinger', 1858: 'annasaheb', 1859: 'tratment', 1860: 'asperagus', 1861: 'advisory', 1862: 'broccoli', 1863: 'impact', 1864: 'watermanagement', 1865: 'bajari', 1866: 'marvel', 1867: 'wheta', 1868: 'spices', 1869: 'as', 1870: 'future', 1871: 'record', 1872: 'ladies', 1873: 'emu', 1874: 'now', 1875: 'sinchai', 1876: 'ticket', 1877: 'pavata', 1878: 'jyotirao', 1879: 'mahamandal', 1880: 'raddish', 1881: 'curry', 1882: 'shead', 1883: 'boron', 1884: 'padegaon', 1885: 'tag', 1886: 'biofertilizer', 1887: 'zukini', 1888: 'blue', 1889: 'fertlizer', 1890: 'astor', 1891: 'soalpur', 1892: 'thiophanate', 1893: 'methyl', 1894: '70', 1895: 'dimethoate', 1896: 'suru', 1897: 'aster', 1898: 'precaution', 1899: 'chilling', 1900: 'injury', 1901: 'insectiside', 1902: 'redmite', 1903: 'largest', 1904: 'show', 1905: 'jwari', 1906: 'roko', 1907: 'preventative', 1908: 'thibak', 1909: 'varieites', 1910: 'birds', 1911: '61', 1912: 'lemmon', 1913: 'st', 1914: 'spay', 1915: 'visit', 1916: 'dew', 1917: 'padegoan', 1918: 'machinary', 1919: 'amaranthus', 1920: 'palla', 1921: 'prdhanmantri', 1922: 'samaan', 1923: 'mella', 1924: 'tobacco', 1925: 'medicine', 1926: 'deoulgaon', 1927: 'upcoming', 1928: 'nanasaheb', 1929: 'maus', 1930: 'saffflower', 1931: 'jyotiba', 1932: 'forgiveness', 1933: 'take', 1934: 'spary', 1935: 'melia', 1936: 'dubia', 1937: 'binjal', 1938: 'iffeco', 1939: 'kenra', 1940: 'vashi', 1941: 'mantegna', 1942: '250', 1943: 'biozyme', 1944: 'benefits', 1945: 'ahmedpur', 1946: 'fat', 1947: 'lady', 1948: 'horticulure', 1949: 'nlock', 1950: 'anantpal', 1951: 'depost', 1952: 'turi', 1953: 'gaurd', 1954: 'peagon', 1955: '95', 1956: 'capacity', 1957: 'scarcity', 1958: 'ahmadpur', 1959: 'cakur', 1960: '3470', 1961: '3771', 1962: '3700', 1963: 'leafeating', 1964: 'agriculyure', 1965: 'grm', 1966: 'takes', 1967: 'odc', 1968: 'ahemadpur', 1969: 'advantages', 1970: 'grievance', 1971: 'redressal', 1972: 'hadgaov', 1973: 'naigoan', 1974: 'arhdapur', 1975: 'himayat', 1976: 'soybwean', 1977: 'allied', 1978: 'enterprise', 1979: 'tested', 1980: 'tuirmeric', 1981: 'requirment', 1982: 'saple', 1983: 'activated', 1984: 'cottton', 1985: 'restricted', 1986: 'result', 1987: 'hadgao', 1988: 'numberr', 1989: 'sucker', 1990: 'external', 1991: 'parasite', 1992: 'body', 1993: 'justation', 1994: 'lasurstation', 1995: 'anjangon', 1996: 'askingabout', 1997: 'adasali', 1998: 'deglue', 1999: 'bringal', 2000: 'abouti', 2001: 'turmuric', 2002: 'dhemse', 2003: 'aboutattack', 2004: 'stone', 2005: 'mahaur', 2006: 'himayatnagr', 2007: 'himayetnagar', 2008: 'kinwad', 2009: 'forescast', 2010: 'diglur', 2011: 'seller', 2012: 'milliped', 2013: 'ridgeguard', 2014: 'panvinha', 2015: 'complaints', 2016: 'medak', 2017: 'telangana', 2018: 'calling', 2019: 'someone', 2020: 'else', 2021: 'bold', 2022: 'jalgaoan', 2023: 'cottonfor', 2024: 'module', 2025: 'tasluka', 2026: 'kinvat', 2027: 'cropof', 2028: 'turmericof', 2029: 'partly', 2030: 'logged', 2031: 'panjabrav', 2032: 'vidhyapeth', 2033: 'grounenut', 2034: 'during', 2035: 'temp', 2036: 'sagroli', 2037: 'naded', 2038: 'ahemedpur', 2039: 'source', 2040: 'has', 2041: 'been', 2042: 'declaired', 2043: 'villeges', 2044: 'should', 2045: 'naigaontehsil', 2046: 'baliraja', 2047: '103', 2048: '5499', 2049: 'brahmani', 2050: 'minimize', 2051: 'gap', 2052: 'waterproof', 2053: 'tarpaulins', 2054: 'many', 2055: 'sulphur', 2056: 'pollination', 2057: 'shatawar', 2058: 'pomegrnate', 2059: 'greenback', 2060: 'petant', 2061: 'triple', 2062: 'fertilizor', 2063: 'we', 2064: \"year's\", 2065: 'tha', 2066: 'punedistrict', 2067: 'swati', 2068: 'singhade', 2069: 'city', 2070: 'ludhiana', 2071: 'confidor', 2072: 'fooder', 2073: 'paithan', 2074: 'products', 2075: 'malshi', 2076: 'h', 2077: 'f', 2078: 'capcicum', 2079: 'dound', 2080: 'broiler', 2081: 'chickens', 2082: 'anthracnose', 2083: 'kasar', 2084: 'maval', 2085: 'abiotic', 2086: 'organically', 2087: 'asaam', 2088: 'oraganic', 2089: 'suplyer', 2090: 'kind', 2091: 'shade', 2092: 'road', 2093: 'gouva', 2094: 'moringa', 2095: 'fertilizetr', 2096: 'cumber', 2097: 'junner', 2098: 'irregular', 2099: 'throug', 2100: 'shatavari', 2101: 'watermilone', 2102: 'pomogarnate', 2103: 'facility', 2104: 'askind', 2105: 'asparangus', 2106: 'schoring', 2107: 'fo', 2108: 'igr', 2109: 'yearly', 2110: 'data', 2111: 'program', 2112: 'bhavan', 2113: 'putrandar', 2114: 'wetaher', 2115: 'far', 2116: 'sawad', 2117: 'infection', 2118: 'pomogrante', 2119: 'alovera', 2120: 'bigvan', 2121: 'ambadi', 2122: 'deprtment', 2123: 'jalgaoon', 2124: 'sprayer', 2125: 'dharangaon', 2126: 'mukhyamantri', 2127: 'his', 2128: 'banan', 2129: 'eucalyptus', 2130: 'umrane', 2131: 'powar', 2132: 'bottole', 2133: 'patrika', 2134: 'yesterday', 2135: 'antitransparent', 2136: 'muktainage', 2137: 'fenugreeek', 2138: 'israel', 2139: 'chalisgoan', 2140: 'projec', 2141: 'bullock', 2142: 'weaher', 2143: 'yaval', 2144: 'erandol', 2145: 'bhusaval', 2146: 'pachola', 2147: 'isecticide', 2148: 'resarch', 2149: 'ravner', 2150: 'scheam', 2151: 'swaraj', 2152: 'resulting', 2153: 'amlner', 2154: 'kendriy', 2155: 'sangathan', 2156: 'mudra', 2157: 'indore', 2158: 'mycoplasma', 2159: 'industries', 2160: 'commission', 2161: 'thirips', 2162: 'tenda', 2163: '6540', 2164: '6450', 2165: 'himyatnagar', 2166: '6000', 2167: '6300', 2168: 'manmat', 2169: 'faremer', 2170: 'rashi', 2171: 'raver', 2172: '2330', 2173: '418', 2174: 'picked', 2175: 'osmamabad', 2176: 'obion', 2177: 'coraindar', 2178: 'srem', 2179: 'dabur', 2180: 'kalmab', 2181: 'protectant', 2182: 'betalwine', 2183: 'webside', 2184: 'givamrut', 2185: 'controling', 2186: 'remove', 2187: 'conatc', 2188: 'majari', 2189: 'osmanabadr', 2190: 'blockumerga', 2191: 'petroleum', 2192: 'abouit', 2193: 'steam', 2194: 'fertiiser', 2195: 'umerga', 2196: 'sugracane', 2197: 'osamanabad', 2198: 'ofosmanabad', 2199: 'aonla', 2200: 'breeds', 2201: 'nemboli', 2202: 'takala', 2203: 'aaked', 2204: 'bhindhi', 2205: 'bhum', 2206: 'krantisinh', 2207: 'nana', 2208: 'celebrating', 2209: 'pack', 2210: 'rajarshee', 2211: 'shahu', 2212: 'koy', 2213: 'onions', 2214: 'dig', 2215: 'dashpani', 2216: 'dasheni', 2217: 'extracts', 2218: 'nishighadha', 2219: 'fungakl', 2220: 'azara', 2221: 'bottol', 2222: 'pahala', 2223: 'wasi', 2224: 'marker', 2225: 'raisin', 2226: 'karveeri', 2227: 'askjed', 2228: 'gaganbavda', 2229: 'kernal', 2230: 'gagsn', 2231: 'att', 2232: 'ack', 2233: 'group', 2234: '750', 2235: 'character', 2236: 'ofwhite', 2237: 'harbicde', 2238: 'shirol', 2239: 'gaganbawada', 2240: 'nuts', 2241: 'cashewnut', 2242: 'hatkanagle', 2243: 'ant', 2244: 'panahala', 2245: 'sakhi', 2246: 'industrial', 2247: 'estate', 2248: 'coir', 2249: 'pith', 2250: 'supplier', 2251: '2600', 2252: '3100', 2253: '2975', 2254: 'small', 2255: 'durational', 2256: 'purchesing', 2257: 'fenurgrrk', 2258: 'nutritional', 2259: 'diet', 2260: 'gestation', 2261: 'bkock', 2262: 'conversion', 2263: 'mehakar', 2264: 'ofbuldhana', 2265: 'minimizing', 2266: 'effects', 2267: 'salt', 2268: 'mothala', 2269: 'sindhedraja', 2270: 'devul', 2271: 'aboutsms', 2272: 'home', 2273: 'lambda', 2274: 'cyhalothrin', 2275: 'kendr', 2276: 'bhuldhana', 2277: 'chiilies', 2278: '5000', 2279: '6100', 2280: '5850', 2281: 'deualgoan', 2282: 'lablab', 2283: 'improvement', 2284: 'os', 2285: 'khamgon', 2286: 'sindhkheda', 2287: 'askied', 2288: 'moregaon', 2289: 'kham', 2290: 'khamgoan', 2291: 'chikali', 2292: 'sindhkhed', 2293: 'deolgaon', 2294: 'chopping', 2295: 'lemo', 2296: 'chikjhali', 2297: 'ceter', 2298: 'rajapuri', 2299: 'soybeani', 2300: 'rizwan', 2301: 'jaljaonjamod', 2302: 'deoolgaon', 2303: 'mur', 2304: 'deulgaonraja', 2305: 'chikli', 2306: 'lasagaon', 2307: 'mehker', 2308: 'damod', 2309: 'â\\x80\\x93', 2310: 'current', 2311: 'biofungicide', 2312: \"s'cane\", 2313: 'khajur', 2314: 'ambejogaie', 2315: 'ambajgai', 2316: 'utapan', 2317: 'maajalgaon', 2318: 'raigad', 2319: 'parbhanii', 2320: 'amejogai', 2321: 'hcl', 2322: 'kadi', 2323: 'jwadwani', 2324: 'grampanchyayat', 2325: 'vadnani', 2326: 'popular', 2327: 'steel', 2328: 'works', 2329: 'kagdi', 2330: 'sandle', 2331: 'wadavani', 2332: 'cardamon', 2333: 'oforiented', 2334: 'ticks', 2335: 'cocoon', 2336: 'governmet', 2337: 'shital', 2338: 'vaijnath', 2339: 'nothing', 2340: 'say', 2341: 'wadawani', 2342: 'commisionar', 2343: 'askeds', 2344: 'developemnt', 2345: 'hortiuture', 2346: 'georaie', 2347: 'recharge', 2348: 'universities', 2349: 'karif', 2350: 'jalsampada', 2351: 'keij', 2352: 'parli', 2353: 'kaj', 2354: 'importance', 2355: 'foreacast', 2356: 'professor', 2357: 'kishinagar', 2358: 'dantiwada', 2359: 'android', 2360: 'hortenet', 2361: 'incease', 2362: 'scale', 2363: 'given', 2364: 'gangapur', 2365: 'council', 2366: 'grading', 2367: 'standardisation', 2368: 'cynodon', 2369: 'dactylon', 2370: 'skelding', 2371: 'traded', 2372: 'rquire', 2373: 'shevagaon', 2374: 'ahmadangar', 2375: 'comany', 2376: 'kopargoan', 2377: 'wiilt', 2378: 'phutava', 2379: 'aslked', 2380: 'pyrilla', 2381: 'squirrel', 2382: 'universal', 2383: 'sompo', 2384: 'lenght', 2385: 'pin', 2386: 'holer', 2387: 'murgas', 2388: 'trres', 2389: 'sangamne', 2390: 'signs', 2391: 'shevgao', 2392: 'color', 2393: 'sell', 2394: 'receiving', 2395: 'pathrdi', 2396: 'ahamandanagr', 2397: 'shevgaov', 2398: 'kopargao', 2399: 'babhaleshwar', 2400: 'tal', 2401: 'nd', 2402: 'corporation', 2403: 'fungul', 2404: 'bableshwar', 2405: 'shednet', 2406: 'sericulure', 2407: 'zeba', 2408: 'sbi', 2409: 'chest', 2410: 'nofor', 2411: 'pamarket', 2412: 'lucknow', 2413: 'corainder', 2414: 'maintenance', 2415: 'dis', 2416: 'distribution', 2417: 'molasses', 2418: 'ofbajaj', 2419: 'scap', 2420: 'satawar', 2421: 'microla', 2422: 'much', 2423: 'auragabad', 2424: \"'hydrogel'\", 2425: 'aurangabd', 2426: 'snake', 2427: 'jaffrabad', 2428: 'hydrogel', 2429: 'farrmer', 2430: 'variteis', 2431: 'jaffarabad', 2432: 'jalnatehsil', 2433: 'bolcl', 2434: 'varieteis', 2435: 'mosmabi', 2436: 'guntha', 2437: 'tejashri', 2438: 'timepass', 2439: 'abhilekh', 2440: 'numbe', 2441: 'duelgaon', 2442: 'trading', 2443: 'grahak', 2444: 'renewal', 2445: 'pressmud', 2446: 'bhokaedan', 2447: 'manta', 2448: 'papayi', 2449: 'tamil', 2450: 'nadu', 2451: 'recover', 2452: 'formal', 2453: 'walvi', 2454: 'pan', 2455: 'qequirement', 2456: 'format', 2457: '6170', 2458: '6520', 2459: '639', 2460: 'jafarabad', 2461: 'fungl', 2462: 'ghansavngi', 2463: 'ds', 2464: '228', 2465: 'documents', 2466: 'ghansavangi', 2467: 'horticultural', 2468: 'ofagriculture', 2469: 'corruption', 2470: 'bureau', 2471: 'lanja', 2472: 'mandangad', 2473: 'rajapur', 2474: 'later', 2475: 'mongo', 2476: 'propogation', 2477: 'chabuk', 2478: 'kani', 2479: 'midh', 2480: 'coragen', 2481: 'developmeni', 2482: 'sking', 2483: 'ttack', 2484: 'joint', 2485: 'cereals', 2486: 'deori', 2487: 'clear', 2488: '39', 2489: 'practice', 2490: 'brahmapuri', 2491: 'koprana', 2492: 'pactrobutazol', 2493: 'ahsil', 2494: 'aasking', 2495: 'chamdrrapur', 2496: 'nizamabad', 2497: 'forecasat', 2498: 'rojgar', 2499: 'taluk', 2500: 'jivati', 2501: 'nagbhid', 2502: 'koparna', 2503: 'sindhewahi', 2504: 'chandrpur', 2505: 'veriety', 2506: 'math', 2507: 'jayshriram', 2508: 'fã©zien', 2509: 'bihari', 2510: 'lakhni', 2511: 'grat', 2512: 'shetkarii', 2513: 'sakoli', 2514: 'lakhandar', 2515: 'friesian', 2516: 'sonalika', 2517: 'ffarmer', 2518: 'ertilizer', 2519: 'shekru', 2520: 'tehsilpauni', 2521: 'mohadi', 2522: 'bhandra', 2523: 'sbout', 2524: 'lpauni', 2525: 'aking', 2526: 'oyster', 2527: 'base', 2528: 'utpanna', 2529: 'trader', 2530: 'feertilizer', 2531: 'value', 2532: \"hinganghat's\", 2533: 'ware', 2534: 'desparni', 2535: 'bumred', 2536: 'arka', 2537: 'kalmeshwsar', 2538: 'watermeoln', 2539: 'laxman', 2540: 'fal', 2541: '4830', 2542: '5200', 2543: '5040', 2544: 'kalameshwar', 2545: 'lack', 2546: 'ornmental', 2547: 'tahashil', 2548: 'lakandur', 2549: 'kamthee', 2550: 'piageon', 2551: 'jawas', 2552: 'planatation', 2553: 'chould', 2554: 'micronutreints', 2555: 'reason', 2556: 'pulgoan', 2557: 'dharva', 2558: 'downi', 2559: 'dwarwa', 2560: 'babhulgaon', 2561: 'mahagon', 2562: 'arani', 2563: 'dharwha', 2564: 'til', 2565: 'cucum', 2566: 'ganjwad', 2567: 'husk', 2568: 'suniede', 2569: 'vidarbha', 2570: 'operative', 2571: 'schem', 2572: 'ulhasnagar', 2573: 'formulations', 2574: 'iffo', 2575: 'mhagoan', 2576: 'aarni', 2577: 'ofralegaonmarket', 2578: 'ganeshkhind', 2579: 'bran', 2580: 'lender', 2581: 'conatct', 2582: 'mahagaov', 2583: 'puasad', 2584: 'babulgaon', 2585: 'wip', 2586: 'raj', 2587: 'maregoan', 2588: 'dhemsa', 2589: 'develop', 2590: 'fees', 2591: 'vardha', 2592: 'darhwa', 2593: 'ofgreen', 2594: 'chillli', 2595: 'records', 2596: 'germinarion', 2597: 'aboutb', 2598: '4005', 2599: '4265', 2600: '4160', 2601: 'ghtanji', 2602: 'rippening', 2603: 'rotted', 2604: 'aboutbahar', 2605: 'gauava', 2606: 'manufacturer', 2607: 'weediside', 2608: 'arecanut', 2609: 'lavhala', 2610: 'mow', 2611: 'dadar', 2612: 'proven', 2613: 'sugaercane', 2614: 'kedra', 2615: 'bacteria', 2616: 'hilly', 2617: 'if', 2618: 'have', 2619: 'treatments', 2620: 'beetroot', 2621: 'special', 2622: 'features', 2623: '86032', 2624: 'sorghun', 2625: 'jawali', 2626: 'kolapur', 2627: 'comittee', 2628: 'distributer', 2629: 'distributor', 2630: 'khandala', 2631: 'pipeline', 2632: 'bordeaux', 2633: 'strawberi', 2634: 'tumor', 2635: 'advice', 2636: 'fed', 2637: 'dainchya', 2638: 'sugancane', 2639: 'shivajinagr', 2640: 'spider', 2641: 'fom', 2642: 'rodent', 2643: 'any', 2644: 'fire', 2645: 'shtipatrika', 2646: 'magzine', 2647: 'rcf', 2648: 'chamorshi', 2649: 'dhanora', 2650: 'dissconnect', 2651: '2016', 2652: \"g'nut\", 2653: 'missed', 2654: 'groudnut', 2655: 'dhamngaon', 2656: 'bazaar', 2657: 'kannad', 2658: 'attcak', 2659: 'surjitahsil', 2660: 'seeting', 2661: 'bhedi', 2662: \"amravati's\", 2663: 'newly', 2664: '3year', 2665: 'marashtra', 2666: 'rilway', 2667: 'morsi', 2668: 'rail', 2669: 'anjangaonsurji', 2670: 'amarvati', 2671: 'chnadur', 2672: 'ajangaon', 2673: 'bvg', 2674: 'karja', 2675: 'anjangoan', 2676: 'bhatukali', 2677: 'shet', 2678: 'tale', 2679: 'sheet', 2680: 'micron', 2681: 'toiko', 2682: 'bzblock', 2683: 'dhamgaon', 2684: 'departmet', 2685: 'bhadravati', 2686: 'raring', 2687: 'powedry', 2688: 'mildey', 2689: 'ceop', 2690: 'ditrict', 2691: 'wheather', 2692: 'phutva', 2693: 'region', 2694: 'bhima', 2695: 'maintain', 2696: 'ramphal', 2697: 'ten', 2698: 'salu', 2699: 'sahilu', 2700: 'askde', 2701: 'traning', 2702: '6600', 2703: 'blooming', 2704: 'parbhanai', 2705: \"sillod's\", 2706: 'piegon', 2707: 'aboutt', 2708: 'oe', 2709: 'keep', 2710: 'moisture', 2711: 'bourdo', 2712: 'peast', 2713: 'lading', 2714: 'deulgaava', 2715: 'ofcotton', 2716: 'excess', 2717: 'nm', 2718: 'au', 2719: 'comapany', 2720: 'measuring', 2721: 'mavwat', 2722: 'agriculuture', 2723: 'prbhani', 2724: 'spong', 2725: 'spongguard', 2726: 'flushing', 2727: 'clogged', 2728: 'chiliie', 2729: 'sab', 2730: '09', 2731: 'dule', 2732: 'shindkheda', 2733: 'shindhkhede', 2734: 'dealer', 2735: 'cpdo', 2736: 'sakhri', 2737: 'sindkhede', 2738: 'fpr', 2739: 'citizen', 2740: 'regeestation', 2741: 'award', 2742: 'reject', 2743: 'issues', 2744: 'managemen', 2745: 'staus', 2746: 'inforamtion', 2747: 'rg', 2748: '2161206198434', 2749: 'thripes', 2750: 'regestationn', 2751: 'bittter', 2752: 'preventation', 2753: 'neelgaye', 2754: 'ofmas', 2755: 'portaction', 2756: 'sc', 2757: 'ag', 2758: 'addmission', 2759: 'p0mksny', 2760: 'symptoms', 2761: 'requirements', 2762: 'informtion', 2763: 'variets', 2764: 'forme', 2765: 'nahe', 2766: 'aaya', 2767: 'agrculture', 2768: 'mechanization', 2769: 'load', 2770: 'miral', 2771: 'overdose', 2772: 'x', 2773: 'feet', 2774: 'age', 2775: 'blo0ck', 2776: 'galanda', 2777: 'ismampur', 2778: 'kadegoan', 2779: 'aunt', 2780: 'attacked', 2781: 'pista', 2782: 'kavthemahankal', 2783: 'waal', 2784: 'blockr', 2785: 'curving', 2786: 'ofjat', 2787: 'kavatemahakal', 2788: 'tasgao', 2789: 'sagli', 2790: 'karanj', 2791: 'brokoli', 2792: 'microlla', 2793: 'bliching', 2794: 'powader', 2795: 'taiwan', 2796: 'lawn', 2797: 'delay', 2798: 'rhinocorous', 2799: 'agrowon', 2800: 'menace', 2801: 'kavathemahakal', 2802: 'withania', 2803: 'somnifera', 2804: 'pawar', 2805: 'lihosin', 2806: 'moor', 2807: 'floricultural', 2808: 'dd', 2809: 'channel', 2810: 'kudal', 2811: 'sindhudurg', 2812: 'ripening', 2813: 'cards', 2814: 'surangi', 2815: 'swadesh', 2816: 'filter', 2817: 'initial', 2818: 'apeda', 2819: 'colleges', 2820: 'involve', 2821: 'pandurang', 2822: 'murbad', 2823: 'ashoka', 2824: 'palghar', 2825: 'haldi', 2826: 'tuermeric', 2827: 'higoli', 2828: 'senga', 2829: 'shengoan', 2830: '06', 2831: 'cuscuta', 2832: 'kalmunari', 2833: 'bearing', 2834: 'ohingoli', 2835: 'atack', 2836: 'hingoliblock', 2837: 'aundhanganath', 2838: 'kalmanuri', 2839: \"department's\", 2840: 'basmati', 2841: 'aundhya', 2842: 'blokage', 2843: 'pipes', 2844: 'nagnmath', 2845: 'sen', 2846: 'food', 2847: 'mgnrega', 2848: 'iffcotokiyo', 2849: 'conact', 2850: 'basal', 2851: 'kanegaon', 2852: 'naka', 2853: 'sengao', 2854: 'diploma', 2855: 'senggaon', 2856: 'weatherforecast', 2857: 'lon', 2858: 'budruk', 2859: '26', 2860: 'one', 2861: 'turmericin', 2862: 'aboutinformation', 2863: 'contat', 2864: 'ghanjivamrut', 2865: 'filed', 2866: 'navinyapurna', 2867: 'metalaxy', 2868: 'mancozeb', 2869: '64', 2870: 'nurtient', 2871: 'isabion', 2872: 'jawa', 2873: 'citronella', 2874: 'among', 2875: 'ploughing', 2876: 'bhandarwati', 2877: 'og', 2878: 'samples', 2879: 'mrug', 2880: 'blossoming', 2881: 'disaster', 2882: 'desi', 2883: '4150', 2884: '4375', 2885: '4263', 2886: 'villege', 2887: 'nandurabr', 2888: 'dare', 2889: 'declared', 2890: 'villages', 2891: 'circles', 2892: 'pandemethilin', 2893: 'shahada', 2894: 'bound', 2895: 'construction', 2896: 'edta', 2897: 'three', 2898: 'months', 2899: 'taloda', 2900: 'halth', 2901: 'broucher', 2902: 'intelhara', 2903: 'leosin', 2904: '3450', 2905: '3760', 2906: '3682', 2907: 'sunnhemp', 2908: 'transplating', 2909: 'saplings', 2910: 'amrvati', 2911: 'nuvan', 2912: 'inscticide', 2913: 'brinkal', 2914: 'vaccination', 2915: 'pdf', 2916: 'lower', 2917: 'hatchery', 2918: 'takali', 2919: 'sky', 2920: 'digraj', 2921: 'farmrar', 2922: 'affected', 2923: 'kadknath', 2924: 'choose', 2925: 'fruitfly', 2926: 'orenge', 2927: 'balapaur', 2928: 'sharbati', 2929: 'mangoes', 2930: 'barsitakali', 2931: 'agriclinics', 2932: 'agribusiness', 2933: 'centers', 2934: 'pestchilli', 2935: 'tahil', 2936: 'pnd', 2937: 'lay', 2938: 'baramat', 2939: 'rats', 2940: 'straw', 2941: '600', 2942: 'aboutof', 2943: 'akalkot', 2944: 'problems', 2945: 'taxation', 2946: 'fertiler', 2947: 'akkaikot', 2948: 'farmerasked', 2949: 'staking', 2950: '23385', 2951: 'strawbery', 2952: 'tunnel', 2953: 'rfarmer', 2954: 'appliaction', 2955: 'dab', 2956: 'tamadrin', 2957: 'magalvedha', 2958: 'kadaknath', 2959: 'jilha', 2960: 'z', 2961: 'thr', 2962: 'mangalwedhe', 2963: 'gurd', 2964: 'kamathi', 2965: 'polurty', 2966: 'clustard', 2967: 'akklkot', 2968: 'malsiras', 2969: 'statiopn', 2970: 'clustor', 2971: 'oinon', 2972: 'downey', 2973: 'em', 2974: 'dhanuka', 2975: 'aboiut', 2976: 'farmar', 2977: 'weater', 2978: 'omite', 2979: 'cropm', 2980: 'tsting', 2981: 'overcome', 2982: 'mew', 2983: 'bark', 2984: 'vilas', 2985: 'eggs', 2986: 'azadpur', 2987: 'reclaimation', 2988: 'waterlooged', 2989: 'underground', 2990: 'drainage', 2991: 'pipe', 2992: 'auto', 2993: 'switch', 2994: 'convert', 2995: 'run', 2996: 'electrical', 2997: 'pandarpur', 2998: 'erthing', 2999: \"nipht's\", 3000: 'manglveda', 3001: 'bending', 3002: 'farms', 3003: 'opening', 3004: 'tomorrow', 3005: 'booklet', 3006: 'caryon', 3007: 'fot', 3008: 'pandhrapur', 3009: 'resin', 3010: 'insecticides', 3011: 'foreacst', 3012: 'seasamum', 3013: 'watermealon', 3014: 'shepoo', 3015: 'karnool', 3016: '1500', 3017: 'remain', 3018: 'seven', 3019: 'malegav', 3020: 'amrwati', 3021: 'mangurpir', 3022: 'soybeen', 3023: 'mangrudpir', 3024: 'rainy', 3025: 'oftur', 3026: 'ofgram', 3027: 'talus', 3028: 'wether', 3029: 'amarawatimarket', 3030: 'blcok', 3031: 'npk', 3032: 'wahim', 3033: 'sciences', 3034: 'sprouted', 3035: 'west', 3036: 'zone', 3037: 'wshim', 3038: 'wiltig', 3039: 'mang', 3040: 'rulpir', 3041: 'ofmalegaon', 3042: '5550', 3043: '6320', 3044: '5935', 3045: 'mangulpir', 3046: 'soyabeanin', 3047: 'alephata', 3048: 'palak', 3049: '200', 3050: '1001', 3051: '851', 3052: 'chillis', 3053: 'mashik', 3054: 'aboutweather', 3055: 'panchavati', 3056: 'attcake', 3057: 'decoposer', 3058: 'nearest', 3059: 'purple', 3060: 'varietiy', 3061: 'vegetabale', 3062: 'smooth', 3063: 'chanwad', 3064: 'drenchingh', 3065: 'iffaco', 3066: 'jut', 3067: 'coordinated', 3068: 'whiteflies', 3069: 'pimpalgao', 3070: 'yevala', 3071: 'oxychloride', 3072: '50', 3073: 'trikbak', 3074: 'gumming', 3075: 'klavan', 3076: 'nurient', 3077: 'trimbakeshwar', 3078: 'chancvad', 3079: 'mail', 3080: 'avilability', 3081: 'nandgaov', 3082: 'chanvad', 3083: 'vaijapur', 3084: 'surgana', 3085: 'chandgaon', 3086: 'ofchandwad', 3087: 'saykhed', 3088: '1057', 3089: 'balgan', 3090: 'foddder', 3091: 'sorgham', 3092: 'capscium', 3093: 'abour', 3094: 'sol', 3095: 'onbottle', 3096: 'samrat', 3097: 'plus', 3098: 'parvana', 3099: 'toughness', 3100: 'implement', 3101: 'andhra', 3102: 'predesh', 3103: 'technics', 3104: 'aleo', 3105: 'onionof', 3106: 'initiation', 3107: 'aaple', 3108: 'awas', 3109: 'blackening', 3110: 'drone', 3111: 'bhumiabhilekh', 3112: 'brown', 3113: 'difference', 3114: 'between', 3115: 'certified', 3116: 'fencing', 3117: 'pmkisan', 3118: 'bavistin', 3119: 'bijali', 3120: 'plantationand', 3121: 'their', 3122: 'gibbrelic', 3123: 'barley', 3124: 'jimamrut', 3125: 'anola', 3126: 'dushakal', 3127: 'ofindian', 3128: 'bordax', 3129: 'sakhari', 3130: 'contavt', 3131: 'meteorological', 3132: 'saguna', 3133: 'khodawa', 3134: 'ment', 3135: 'culivation', 3136: 'income', 3137: 'manchar', 3138: 'ta', 3139: 'bligh', 3140: 'disha', 3141: 'custodia', 3142: 'fungiside', 3143: 'granules', 3144: 'ion', 3145: 'kasan', 3146: 'shem', 3147: 'retardant', 3148: 'burning', 3149: 'sprasy', 3150: 'rai', 3151: 'vareities', 3152: '14', 3153: 'cahenut', 3154: 'attacknof', 3155: 'atttack', 3156: 'banaba', 3157: 'lucky', 3158: 'dai', 3159: 'chalisgav', 3160: 'business', 3161: 'centres', 3162: 'ministry', 3163: 'star', 3164: 'seson', 3165: 'sticker', 3166: 'foliar', 3167: 'immature', 3168: 'mould', 3169: 'crusted', 3170: 'air', 3171: 'pollution', 3172: 'monitoring', 3173: 'governments', 3174: 'sesamume', 3175: 'seasame', 3176: '2660', 3177: '700', 3178: 'dsoe', 3179: 'pharadal', 3180: 'wants', 3181: 'fertilizere', 3182: 'msps', 3183: 'aambe', 3184: 'slug', 3185: 'pendamethalin', 3186: 'reclamation', 3187: 'calcareous', 3188: 'sbsidy', 3189: 'bbout', 3190: 'drainching', 3191: 'warmicompost', 3192: 'acaterpillar', 3193: 'hatti', 3194: 'gawat', 3195: 'sugharcane', 3196: 'against', 3197: 'nipar', 3198: 'fetilizer', 3199: 'ammonium', 3200: 'aand', 3201: 'pseudomonas', 3202: 'perliter', 3203: 'login', 3204: 'leave', 3205: 'drops', 3206: 'lokpal', 3207: 'maharshtra', 3208: 'barseem', 3209: 'jacky', 3210: '9218', 3211: 'yeolamarket', 3212: 'stemborer', 3213: 'manytri', 3214: 'popcorn', 3215: 'open', 3216: 'yevla', 3217: 'shinde', 3218: 'engineering', 3219: 'hazardous', 3220: 'kardai', 3221: 'rfor', 3222: 'pst', 3223: 'humani', 3224: 'pulces', 3225: 'beseem', 3226: 'leosine', 3227: 'kisansanman', 3228: 'sugerbeet', 3229: 'karyon', 3230: 'healthyco', 3231: 'forever', 3232: 'llp', 3233: 'aboutlist', 3234: 'king', 3235: 'patato', 3236: 'berseem', 3237: 'acer', 3238: 'varties', 3239: 'soils', 3240: 'ball', 3241: 'grren', 3242: 'manuaring', 3243: 'doble', 3244: 'ambiya', 3245: 'fertiliaer', 3246: 'row', 3247: 'tuti', 3248: 'scientific', 3249: 'dryland', 3250: 'hyderabad', 3251: 'khadiki', 3252: 'moblie', 3253: 'neelam', 3254: 'sudan', 3255: 'ing', 3256: 'sprayed', 3257: 'increse', 3258: 'chandvel', 3259: 'bloght', 3260: 'chloropyrifos', 3261: 'suppliers', 3262: 'milking', 3263: 'dragan', 3264: 'fungas', 3265: 'important', 3266: 'websites', 3267: 'jeevan', 3268: 'jyoti', 3269: 'cxontact', 3270: 'variiety', 3271: 'caterpilarr', 3272: 'w', 3273: 'china', 3274: 'lettuce', 3275: 'scheduling', 3276: 'nepiar', 3277: 'sprayfor', 3278: 'abouytrm', 3279: 'select', 3280: 'mkisan', 3281: 'registeration', 3282: 'palan', 3283: 'nimatode', 3284: 'vidhyapith', 3285: 'prabhat', 3286: 'agricultur', 3287: 'masambi', 3288: 'lihocin', 3289: 'adsali', 3290: 'attacl', 3291: 'reproduction', 3292: 'ataack', 3293: 'son', 3294: 'ayushman', 3295: 'bharat', 3296: 'mitcon', 3297: 'prabodhini', 3298: 'praklp', 3299: 'cancer', 3300: 'ivy', 3301: 'selling', 3302: 'apghat', 3303: 'chinchwad', 3304: 'resident', 3305: 'deputy', 3306: 'collector', 3307: 'latest', 3308: 'gultekadi', 3309: 'corander', 3310: 'â\\xa0fruit', 3311: 'pudina', 3312: 'avail', 3313: 'stretch', 3314: 'peppermint', 3315: 'aboutpradhan', 3316: 'nidhin', 3317: 'usefull', 3318: 'pimpari', 3319: 'exibution', 3320: 'exibiation', 3321: 'sizable', 3322: 'booking', 3323: 'nitrate', 3324: 'mixed', 3325: 'deligate', 3326: 'â\\xa0attack', 3327: 'available', 3328: '398', 3329: '400', 3330: 'crpf', 3331: 'campus', 3332: 'tuberous', 3333: 'fingering', 3334: '2200', 3335: '2050', 3336: 'weedcide', 3337: 'goverenment', 3338: 'redmites', 3339: 'reemergence', 3340: 'fer', 3341: 'complete', 3342: 'taqat', 3343: 'nimgaon', 3344: 'ketki', 3345: 'amarwel', 3346: 'it', 3347: 'nam', 3348: 'septoria', 3349: 'mohgani', 3350: 'navinyapurn', 3351: 'needed', 3352: 'amnesty', 3353: 'parval', 3354: 'arthik', 3355: 'oon', 3356: 'graind', 3357: 'nain', 3358: 'bord', 3359: 'schoenite', 3360: 'dreanching', 3361: 'relief', 3362: 'dolichous', 3363: 'subcidy', 3364: 'talathi', 3365: 'suckingpest', 3366: 'hapa', 3367: 'yard', 3368: 'jamnagar', 3369: 'kvkv', 3370: 'blockade', 3371: 'flawering', 3372: 'prevention', 3373: 'start', 3374: 'together', 3375: 'praparation', 3376: 'mosi', 3377: 'gladiolas', 3378: 'coco', 3379: 'buying', 3380: 'kalawade', 3381: 'packaging', 3382: 'suagar', 3383: 'palthan', 3384: 'alcohol', 3385: 'moti', 3386: 'beekeeping', 3387: 'watermilon', 3388: 'reparation', 3389: 'pracices', 3390: 'traeatment', 3391: 'calculation', 3392: 'feild', 3393: 'aatpadi', 3394: 'padval', 3395: 'hmala', 3396: 'atratap', 3397: 'karonda', 3398: 'attending', 3399: \"training's\", 3400: 'kanchanpur', 3401: 'pomegrante', 3402: 'see', 3403: 'shivar', 3404: 'kerala', 3405: 'nipht', 3406: 'alphanso', 3407: 'mohod', 3408: 'dourd', 3409: 'vmaize', 3410: 'carnation', 3411: 'instalment', 3412: 'america', 3413: 'gibberellic', 3414: 'procliam', 3415: 'layers', 3416: 'sanamn', 3417: 'complain', 3418: '52', 3419: '34', 3420: 'badisauf', 3421: 'palnt', 3422: 'ashking', 3423: 'drooping', 3424: 'cyprus', 3425: 'sulphar', 3426: 'karate', 3427: 'satawari', 3428: 'shravan', 3429: 'ghevda', 3430: 'rajma', 3431: 'final', 3432: 'submission', 3433: 'undefined', 3434: 'catyerpillar', 3435: 'milky', 3436: 'work', 3437: 'exp', 3438: 'pomegranete', 3439: 'bed', 3440: 'variegates', 3441: 'indai', 3442: 'yeild', 3443: 'rogar', 3444: 'paradarshan', 3445: \"india's\", 3446: 'treament', 3447: 'tricoderma', 3448: 'bliht', 3449: 'suger', 3450: 'upam', 3451: 'agriserch', 3452: 'shirgaon', 3453: 'organc', 3454: 'vigour', 3455: 'more', 3456: 'caelifera', 3457: 'draksha', 3458: 'bagayatdar', 3459: 'sangh', 3460: 'require', 3461: 'milone', 3462: 'big', 3463: 'shot', 3464: 'd', 3465: 'sodium', 3466: 'grubas', 3467: 'noumbar', 3468: 'citric', 3469: 'melody', 3470: 'caster', 3471: 'sccheme', 3472: 'accidental', 3473: 'crack', 3474: 'pultry', 3475: 'bit', 3476: 'moss', 3477: 'mowlands', 3478: 'karjmafi', 3479: 'wave', 3480: 'mask', 3481: 'icrisat', 3482: 'rootning', 3483: 'adhikari', 3484: 'helplin', 3485: 'international', 3486: 'peat', 3487: 'contro', 3488: 'fenu', 3489: 'greek', 3490: 'merigold', 3491: 'borar', 3492: 'apale', 3493: 'corag', 3494: 'cucucmber', 3495: 'tammarind', 3496: 'save', 3497: 'loving', 3498: 'jambhul', 3499: 'malformation', 3500: 'tranning', 3501: 'roller', 3502: 'mini', 3503: 'micronutriyants', 3504: 'kaushalya', 3505: 'phosphorus', 3506: 'dissolving', 3507: 'enhancers', 3508: 'abouttt', 3509: 'milldew', 3510: 'sanmna', 3511: 'producer', 3512: 'organisation', 3513: 'good', 3514: 'sanchar', 3515: 'banglore', 3516: 'termiites', 3517: 'brseem', 3518: 'beby', 3519: 'stikar', 3520: 'bottel', 3521: 'little', 3522: 'sugarvcane', 3523: 'yeilding', 3524: 'balanagar', 3525: 'aadhikari', 3526: 'tack', 3527: 'padegav', 3528: 'doctor', 3529: 'maka', 3530: 'powedery', 3531: 'male', 3532: 'pure', 3533: 'sookha', 3534: 'nahi', 3535: 'pa', 3536: 'raha', 3537: 'incorrect', 3538: 'raya', 3539: 'sp', 3540: 'amaranthaceae', 3541: 'sowingh', 3542: 'insects', 3543: 'complite', 3544: 'varietie', 3545: 'guidelines', 3546: 'honor', 3547: 'barren', 3548: 'case', 3549: 'jhulsa', 3550: 'cirg', 3551: 'makhdoom', 3552: 'uttar', 3553: 'problrm', 3554: 're', 3555: 'consider', 3556: '80', 3557: '40', 3558: 'occur', 3559: 'ukrha', 3560: 'rog', 3561: 'destroy', 3562: '35', 3563: 'quiry', 3564: 'hd3086', 3565: 'fto', 3566: 'direct', 3567: 'transfer', 3568: 'specific', 3569: 'certifiation', 3570: 'update', 3571: 'cardamom', 3572: 'policy', 3573: 'toria', 3574: 'lone', 3575: 'dao', 3576: 'masawat', 3577: 'lasun', 3578: 'biba', 3579: 'shelling', 3580: 'punyashlok', 3581: 'ahilyadevi', 3582: 'sheli', 3583: 'mendhi', 3584: 'residue', 3585: 'trough', 3586: 'deulgaoraja', 3587: 'exibition', 3588: 'date2019', 3589: 'ginjer', 3590: 'nepier', 3591: 'weedside', 3592: \"officer's\", 3593: 'recruitment', 3594: 'biogas', 3595: '162', 3596: 'ichiban', 3597: 'soduku', 3598: 'create', 3599: 'custerdapple', 3600: 'panel', 3601: 'makka', 3602: 'cake', 3603: 'vsantaro', 3604: 'naike', 3605: 'marthwada', 3606: 'sanjivanee', 3607: 'soft', 3608: 'message', 3609: 'deliver', 3610: 'cal', 3611: 'karj', 3612: 'mukti', 3613: 'reflowering', 3614: 'mahavitran', 3615: 'perl', 3616: 'mllet', 3617: 'seamum', 3618: 'rd', 3619: 'bordopest', 3620: 'conrol', 3621: 'ofamerican', 3622: 'yojanascheme', 3623: 'gw', 3624: '496', 3625: 'askede', 3626: 'aic', 3627: 'jk', 3628: '811', 3629: 'sour', 3630: 'deatils', 3631: 'tahsildar', 3632: 'tretment', 3633: 'ornamental', 3634: 'shrubs', 3635: 'degree', 3636: 'tenly', 3637: 'milia', 3638: 'isuue', 3639: 'broadcast', 3640: 'sotbean', 3641: 'kharbuj', 3642: 'patrur', 3643: 'soghum', 3644: 'winter', 3645: 'gel', 3646: 'hallticket', 3647: 'supervisor', 3648: 'attendant', 3649: 'utpann', 3650: '94012', 3651: 'managemnet', 3652: 'ssp', 3653: 'phosphrus', 3654: 'plantingseason', 3655: 'rajsthan', 3656: 'surajgarh', 3657: 'gereniam', 3658: 'varietirs', 3659: 'maeket', 3660: 'deshi', 3661: 'stic', 3662: 'ahd', 3663: 'bhuri', 3664: 'dubiya', 3665: 'dung', 3666: 'while', 3667: 'praises', 3668: 'galanada', 3669: 'gramcrop', 3670: 'pradhnmantri', 3671: 'bimayojana', 3672: 'january', 3673: 'takumi', 3674: 'councils', 3675: 'gyalardiya', 3676: 'diamondback', 3677: 'elephant', 3678: 'foot', 3679: 'yam', 3680: 'brijnal', 3681: '657', 3682: 'egg', 3683: 'incubator', 3684: 'zuari', 3685: 'maha', 3686: 'cutworms', 3687: 'dinkya', 3688: 'borne', 3689: 'selelcting', 3690: 'earthworms', 3691: 'loose', 3692: 'rabib', 3693: 'kranti', 3694: 'urine', 3695: 'om', 3696: 'kanda', 3697: 'chwal', 3698: 'dropon', 3699: 'mahabeej', 3700: 'papai', 3701: 'alterneria', 3702: 'dda', 3703: 'asti', 3704: 'insecticied', 3705: 'lure', 3706: 'traps', 3707: 'joining', 3708: 'leman', 3709: 'fertillizer', 3710: 'mix', 3711: 'fardad', 3712: 'fort', 3713: 'gaillardia', 3714: 'mukhmantri', 3715: 'tilt', 3716: 'lit', 3717: 'propiconazole', 3718: 'syngenta', 3719: 'sup', 3720: 'nersury', 3721: 'bolworm', 3722: 'alternate', 3723: 'berry', 3724: '23', 3725: 'potata', 3726: 'onon', 3727: 'sorhum', 3728: 'sim', 3729: 'kada', 3730: 'ergot', 3731: 'diary', 3732: 'subside', 3733: 'ob', 3734: 'redning', 3735: 'faramer', 3736: 'distinct', 3737: 'bight', 3738: 'trap', 3739: 'orchids', 3740: 'quinalphos', 3741: 'proccesing', 3742: 'applications', 3743: 'cbri', 3744: 'traing', 3745: 'bayer', 3746: 'gaziabad', 3747: 'leafly', 3748: 'veg', 3749: 'biofertilizers', 3750: 'benagal', 3751: 'â\\xa0shoot', 3752: 'gallardiya', 3753: 'bavistane', 3754: 'gm', 3755: 'carbandazin', 3756: 'basf', 3757: 'pit', 3758: 'generali', 3759: 'oranage', 3760: 'biological', 3761: 'parthenium', 3762: 'kasbe', 3763: 'asker', 3764: 'physiological', 3765: 'disorder', 3766: 'varmiwash', 3767: 'tamariad', 3768: 'death', 3769: 'sessamun', 3770: 'ullala', 3771: 'antracol', 3772: 'light', 3773: 'nindhi', 3774: 'institutes', 3775: 'rajgurunagar', 3776: 'varies', 3777: 'kardi', 3778: 'inducing', 3779: 'vruit', 3780: 'sttion', 3781: 'trips', 3782: 'murud', 3783: 'mntri', 3784: 'bhaji', 3785: 'social', 3786: 'forestry', 3787: 'uttpann', 3788: '612', 3789: 'fame', 3790: 'factory', 3791: 'gahu', 3792: 'bhatye', 3793: 'tnau', 3794: 'punemarket', 3795: 'chakurmarket', 3796: 'funagal', 3797: 'gramodyog', 3798: 'mandal', 3799: 'yaojana', 3800: 'wilton', 3801: 'devanibud', 3802: 'cutter', 3803: 'because', 3804: 'wsm', 3805: '109', 3806: 'aurad', 3807: 'shahajani', 3808: 'installation', 3809: 'retardent', 3810: 'vasant', 3811: 'dada', 3812: 'allotted', 3813: 'public', 3814: 'relations', 3815: 'helpful', 3816: 'third', 3817: 'rhizome', 3818: 'crysenthemum'}\n"
          ],
          "name": "stdout"
        }
      ]
    },
    {
      "cell_type": "code",
      "metadata": {
        "id": "KF4N2DcPXYzV",
        "colab_type": "code",
        "outputId": "540288ab-7401-4c5c-fd72-a9b9e3bfb9b1",
        "colab": {
          "base_uri": "https://localhost:8080/",
          "height": 34
        }
      },
      "source": [
        "e = model.layers[0]\n",
        "weights = e.get_weights()[0]\n",
        "print(weights.shape) # shape: (vocab_size, embedding_dim)\n",
        "\n",
        "# Expected output\n",
        "# (1000, 16)"
      ],
      "execution_count": 25,
      "outputs": [
        {
          "output_type": "stream",
          "text": [
            "(1000, 16)\n"
          ],
          "name": "stdout"
        }
      ]
    },
    {
      "cell_type": "code",
      "metadata": {
        "id": "U7c4ii6NXZd6",
        "colab_type": "code",
        "colab": {}
      },
      "source": [
        "import io\n",
        "\n",
        "out_v = io.open('vecs.tsv', 'w', encoding='utf-8')\n",
        "out_m = io.open('meta.tsv', 'w', encoding='utf-8')\n",
        "for word_num in range(1, vocab_size):\n",
        "  word = reverse_word_index[word_num]\n",
        "  embeddings = weights[word_num]\n",
        "  out_m.write(word + \"\\n\")\n",
        "  out_v.write('\\t'.join([str(x) for x in embeddings]) + \"\\n\")\n",
        "out_v.close()\n",
        "out_m.close()"
      ],
      "execution_count": 0,
      "outputs": []
    },
    {
      "cell_type": "code",
      "metadata": {
        "id": "6huRcDgOXcS4",
        "colab_type": "code",
        "colab": {}
      },
      "source": [
        "try:\n",
        "  from google.colab import files\n",
        "except ImportError:\n",
        "  pass\n",
        "else:\n",
        "  files.download('vecs.tsv')\n",
        "  files.download('meta.tsv')"
      ],
      "execution_count": 0,
      "outputs": []
    }
  ]
}